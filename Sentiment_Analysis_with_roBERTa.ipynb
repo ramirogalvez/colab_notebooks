{
  "nbformat": 4,
  "nbformat_minor": 0,
  "metadata": {
    "colab": {
      "name": "Sentiment Analysis with roBERTa",
      "provenance": [],
      "collapsed_sections": [],
      "toc_visible": true,
      "include_colab_link": true
    },
    "kernelspec": {
      "name": "python3",
      "display_name": "Python 3"
    },
    "accelerator": "GPU"
  },
  "cells": [
    {
      "cell_type": "markdown",
      "metadata": {
        "id": "view-in-github",
        "colab_type": "text"
      },
      "source": [
        "<a href=\"https://colab.research.google.com/github/ramirogalvez/colab_notebooks/blob/master/Sentiment_Analysis_with_roBERTa.ipynb\" target=\"_parent\"><img src=\"https://colab.research.google.com/assets/colab-badge.svg\" alt=\"Open In Colab\"/></a>"
      ]
    },
    {
      "cell_type": "markdown",
      "metadata": {
        "id": "WWO8bfmaztvt",
        "colab_type": "text"
      },
      "source": [
        "**Author**: Ramiro Gálvez (Twitter handle: [@RamiroHGalvez](https://twitter.com/RamiroHGalvez))\n",
        "\n",
        "**Date**: 2020-08-26"
      ]
    },
    {
      "cell_type": "code",
      "metadata": {
        "id": "Gl-HIAgFZTpW",
        "colab_type": "code",
        "colab": {
          "base_uri": "https://localhost:8080/",
          "height": 444
        },
        "outputId": "361f12c6-6a1f-4966-ba3d-4abe7944ae7e"
      },
      "source": [
        "!pip install -qq transformers\n",
        "!gdown --id 1CD7s5rnLbsQ7Bgx6WrSv6QwJe6_Q7dvy\n",
        "!nvidia-smi"
      ],
      "execution_count": null,
      "outputs": [
        {
          "output_type": "stream",
          "text": [
            "Downloading...\n",
            "From: https://drive.google.com/uc?id=1CD7s5rnLbsQ7Bgx6WrSv6QwJe6_Q7dvy\n",
            "To: /content/imdb_data.zip\n",
            "127MB [00:00, 271MB/s]\n",
            "Wed Aug 26 02:13:15 2020       \n",
            "+-----------------------------------------------------------------------------+\n",
            "| NVIDIA-SMI 450.57       Driver Version: 418.67       CUDA Version: 10.1     |\n",
            "|-------------------------------+----------------------+----------------------+\n",
            "| GPU  Name        Persistence-M| Bus-Id        Disp.A | Volatile Uncorr. ECC |\n",
            "| Fan  Temp  Perf  Pwr:Usage/Cap|         Memory-Usage | GPU-Util  Compute M. |\n",
            "|                               |                      |               MIG M. |\n",
            "|===============================+======================+======================|\n",
            "|   0  Tesla T4            Off  | 00000000:00:04.0 Off |                    0 |\n",
            "| N/A   72C    P0    33W /  70W |      0MiB / 15079MiB |      0%      Default |\n",
            "|                               |                      |                 ERR! |\n",
            "+-------------------------------+----------------------+----------------------+\n",
            "                                                                               \n",
            "+-----------------------------------------------------------------------------+\n",
            "| Processes:                                                                  |\n",
            "|  GPU   GI   CI        PID   Type   Process name                  GPU Memory |\n",
            "|        ID   ID                                                   Usage      |\n",
            "|=============================================================================|\n",
            "|  No running processes found                                                 |\n",
            "+-----------------------------------------------------------------------------+\n"
          ],
          "name": "stdout"
        }
      ]
    },
    {
      "cell_type": "code",
      "metadata": {
        "id": "h6QB1f33aQZD",
        "colab_type": "code",
        "colab": {
          "base_uri": "https://localhost:8080/",
          "height": 72
        },
        "outputId": "e0e0815c-0f9f-4667-8f45-ee996f7db759"
      },
      "source": [
        "import requests\n",
        "import zipfile\n",
        "import os\n",
        "import numpy as np\n",
        "import pandas as pd\n",
        "import torch\n",
        "import matplotlib.pyplot as plt\n",
        "import seaborn as sns\n",
        "from google.colab import files\n",
        "from collections import defaultdict\n",
        "from sklearn.model_selection import train_test_split\n",
        "from torch import nn, optim\n",
        "from torch.utils.data import Dataset, DataLoader\n",
        "from transformers import RobertaModel, RobertaTokenizer, AdamW, get_linear_schedule_with_warmup\n",
        "from sklearn.metrics import classification_report, roc_auc_score, roc_curve\n"
      ],
      "execution_count": null,
      "outputs": [
        {
          "output_type": "stream",
          "text": [
            "/usr/local/lib/python3.6/dist-packages/statsmodels/tools/_testing.py:19: FutureWarning: pandas.util.testing is deprecated. Use the functions in the public API at pandas.testing instead.\n",
            "  import pandas.util.testing as tm\n"
          ],
          "name": "stderr"
        }
      ]
    },
    {
      "cell_type": "code",
      "metadata": {
        "id": "PmS3Fme3nGoh",
        "colab_type": "code",
        "colab": {}
      },
      "source": [
        "# Seteos de la notebook\n",
        "%matplotlib inline\n",
        "RANDOM_SEED = 42\n",
        "np.random.seed(RANDOM_SEED)\n",
        "torch.manual_seed(RANDOM_SEED)\n",
        "device = torch.device(\"cuda:0\" if torch.cuda.is_available() else \"cpu\")"
      ],
      "execution_count": null,
      "outputs": []
    },
    {
      "cell_type": "markdown",
      "metadata": {
        "id": "d5p3Equ4ZY0F",
        "colab_type": "text"
      },
      "source": [
        "# roBERTa para Análisis de Sentimiento"
      ]
    },
    {
      "cell_type": "markdown",
      "metadata": {
        "id": "gEf8nHApOu6N",
        "colab_type": "text"
      },
      "source": [
        "En esta notebook se presenta el código para entrenar un modelo de análisis de sentimiento a partir de un modelo BERT (roBERTa) pre entrenado (transfer learning). La notebook hace uso fuerte de la librería transformers de huggingface y puede adaptarse de manera simple (trivial) a otros problemas de clasificación de textos (cortos)."
      ]
    },
    {
      "cell_type": "markdown",
      "metadata": {
        "id": "cAyKpSzWpCvv",
        "colab_type": "text"
      },
      "source": [
        "## Carga de los datos"
      ]
    },
    {
      "cell_type": "code",
      "metadata": {
        "id": "xDBbBs43ZzMk",
        "colab_type": "code",
        "colab": {}
      },
      "source": [
        "def process_document(metadata, document):\n",
        "\n",
        "    m_id, rating = [int(e) for e in metadata.replace(\".txt\", \"\").split(\"_\")]\n",
        "    r_class = 0 if rating <= 4 else 1\n",
        "\n",
        "    return {\"movie_id\": m_id,\n",
        "            \"rating\": rating,\n",
        "            \"content\": document,\n",
        "            \"sentiment\": r_class}\n",
        "\n",
        "\n",
        "def carga_path(data_path):\n",
        "\n",
        "    comments_data = []\n",
        "    for d in os.listdir(data_path):\n",
        "        with open(data_path + d, encoding=\"utf-8\") as f:\n",
        "            comments_data.append(process_document(d, f.read()))\n",
        "\n",
        "    return pd.DataFrame(comments_data)\n",
        "\n",
        "\n",
        "def carga_datos_imdb(tr_path, ts_path):\n",
        "\n",
        "    # Descarga el archivo zip y lo descomprime en el server de Google\n",
        "    z = zipfile.ZipFile(\"imdb_data.zip\")\n",
        "    z.extractall()\n",
        "\n",
        "    # Carga los datos de entrenamiento\n",
        "    train_data = carga_path(tr_path)\n",
        "\n",
        "    # Carga los datos de testeo\n",
        "    test_data = carga_path(ts_path)\n",
        "\n",
        "    return train_data, test_data"
      ],
      "execution_count": null,
      "outputs": []
    },
    {
      "cell_type": "code",
      "metadata": {
        "id": "oBgKrxvKbIdf",
        "colab_type": "code",
        "colab": {}
      },
      "source": [
        "train_data, test_data = carga_datos_imdb(\"./imdb_data/imdb_data/train_corpus/\",\n",
        "                                         \"./imdb_data/imdb_data/test_corpus/\")\n",
        "class_names = ['negative', 'positive']\n",
        "\n",
        "train_data, val_data = train_test_split(train_data,\n",
        "                                        test_size=0.1,\n",
        "                                        random_state=RANDOM_SEED)"
      ],
      "execution_count": null,
      "outputs": []
    },
    {
      "cell_type": "code",
      "metadata": {
        "id": "I2GanIv6jmiS",
        "colab_type": "code",
        "colab": {
          "base_uri": "https://localhost:8080/",
          "height": 194
        },
        "outputId": "3e688a97-77b7-4bdc-b7ef-9dfcf7d90568"
      },
      "source": [
        "train_data.head()"
      ],
      "execution_count": null,
      "outputs": [
        {
          "output_type": "execute_result",
          "data": {
            "text/html": [
              "<div>\n",
              "<style scoped>\n",
              "    .dataframe tbody tr th:only-of-type {\n",
              "        vertical-align: middle;\n",
              "    }\n",
              "\n",
              "    .dataframe tbody tr th {\n",
              "        vertical-align: top;\n",
              "    }\n",
              "\n",
              "    .dataframe thead th {\n",
              "        text-align: right;\n",
              "    }\n",
              "</style>\n",
              "<table border=\"1\" class=\"dataframe\">\n",
              "  <thead>\n",
              "    <tr style=\"text-align: right;\">\n",
              "      <th></th>\n",
              "      <th>movie_id</th>\n",
              "      <th>rating</th>\n",
              "      <th>content</th>\n",
              "      <th>sentiment</th>\n",
              "    </tr>\n",
              "  </thead>\n",
              "  <tbody>\n",
              "    <tr>\n",
              "      <th>4484</th>\n",
              "      <td>3077</td>\n",
              "      <td>1</td>\n",
              "      <td>Hobgoblins... what a concept. Rick Sloan was a...</td>\n",
              "      <td>0</td>\n",
              "    </tr>\n",
              "    <tr>\n",
              "      <th>11558</th>\n",
              "      <td>7358</td>\n",
              "      <td>1</td>\n",
              "      <td>This Lifetime style movie takes the middle age...</td>\n",
              "      <td>0</td>\n",
              "    </tr>\n",
              "    <tr>\n",
              "      <th>16900</th>\n",
              "      <td>8317</td>\n",
              "      <td>8</td>\n",
              "      <td>A remarkable example of cinematic alchemy at w...</td>\n",
              "      <td>1</td>\n",
              "    </tr>\n",
              "    <tr>\n",
              "      <th>8936</th>\n",
              "      <td>8127</td>\n",
              "      <td>2</td>\n",
              "      <td>Currently, this film is listed on IMDb as the ...</td>\n",
              "      <td>0</td>\n",
              "    </tr>\n",
              "    <tr>\n",
              "      <th>10782</th>\n",
              "      <td>10454</td>\n",
              "      <td>9</td>\n",
              "      <td>Before Sunrise is romance for the slacker gene...</td>\n",
              "      <td>1</td>\n",
              "    </tr>\n",
              "  </tbody>\n",
              "</table>\n",
              "</div>"
            ],
            "text/plain": [
              "       movie_id  ...  sentiment\n",
              "4484       3077  ...          0\n",
              "11558      7358  ...          0\n",
              "16900      8317  ...          1\n",
              "8936       8127  ...          0\n",
              "10782     10454  ...          1\n",
              "\n",
              "[5 rows x 4 columns]"
            ]
          },
          "metadata": {
            "tags": []
          },
          "execution_count": 6
        }
      ]
    },
    {
      "cell_type": "markdown",
      "metadata": {
        "id": "MkkX_GNFpNRT",
        "colab_type": "text"
      },
      "source": [
        "## Configuración de los data loaders para roBERTa"
      ]
    },
    {
      "cell_type": "code",
      "metadata": {
        "id": "MlB2fUO8tp9c",
        "colab_type": "code",
        "colab": {}
      },
      "source": [
        "class SentimentDataset(Dataset):\n",
        "\n",
        "    def __init__(self, contents, targets, tokenizer, max_len):\n",
        "        self.contents = contents\n",
        "        self.targets = targets\n",
        "        self.tokenizer = tokenizer\n",
        "        self.max_len = max_len\n",
        "\n",
        "\n",
        "    def __len__(self):\n",
        "        return len(self.contents)\n",
        "\n",
        "\n",
        "    def __getitem__(self, item):\n",
        "        content = str(self.contents[item])\n",
        "        target = self.targets[item]\n",
        "\n",
        "        encoding = self.tokenizer.encode_plus(content,\n",
        "                                              add_special_tokens=True,\n",
        "                                              max_length=self.max_len,\n",
        "                                              return_token_type_ids=False,\n",
        "                                              pad_to_max_length=True,\n",
        "                                              return_attention_mask=True,\n",
        "                                              return_tensors='pt',\n",
        "                                              truncation=True)\n",
        "\n",
        "        return {'content_text': content,\n",
        "                'input_ids': encoding['input_ids'].flatten(),\n",
        "                'attention_mask': encoding['attention_mask'].flatten(),\n",
        "                'targets': torch.tensor(target, dtype=torch.long)}\n",
        "\n",
        "\n",
        "def create_data_loader(df, tokenizer, max_len, batch_size):\n",
        "\n",
        "    ds = SentimentDataset(contents=df.content.to_numpy(),\n",
        "                           targets=df.sentiment.to_numpy(),\n",
        "                           tokenizer=tokenizer,\n",
        "                           max_len=max_len)\n",
        "    \n",
        "    return DataLoader(ds,\n",
        "                      batch_size=batch_size,\n",
        "                      num_workers=4)"
      ],
      "execution_count": null,
      "outputs": []
    },
    {
      "cell_type": "code",
      "metadata": {
        "id": "vSg_YMkJuOBd",
        "colab_type": "code",
        "colab": {}
      },
      "source": [
        "MAX_LEN = 400\n",
        "BATCH_SIZE = 16\n",
        "PRE_TRAINED_MODEL_NAME = \"roberta-base\"\n",
        "tokenizer = RobertaTokenizer.from_pretrained(PRE_TRAINED_MODEL_NAME)\n",
        "\n",
        "train_data_loader = create_data_loader(train_data, tokenizer, MAX_LEN, BATCH_SIZE)\n",
        "val_data_loader = create_data_loader(val_data, tokenizer, MAX_LEN, BATCH_SIZE)\n",
        "test_data_loader = create_data_loader(test_data, tokenizer, MAX_LEN, BATCH_SIZE)"
      ],
      "execution_count": null,
      "outputs": []
    },
    {
      "cell_type": "markdown",
      "metadata": {
        "id": "M0BHnTxW1GLf",
        "colab_type": "text"
      },
      "source": [
        "## Seteo del modelo propuesto (roBERTa + dropout + fully connected)"
      ]
    },
    {
      "cell_type": "code",
      "metadata": {
        "id": "OTCh6htR1Vfn",
        "colab_type": "code",
        "colab": {}
      },
      "source": [
        "class SentimentClassifier(nn.Module):\n",
        "\n",
        "    def __init__(self, n_classes, freeze = False):\n",
        "    \n",
        "        super(SentimentClassifier, self).__init__()\n",
        "        self.model = RobertaModel.from_pretrained(PRE_TRAINED_MODEL_NAME)\n",
        "        self.drop = nn.Dropout(p=0.3)\n",
        "        self.out = nn.Linear(self.model.config.hidden_size, n_classes)\n",
        "\n",
        "        if freeze:\n",
        "            for param in self.model.parameters():\n",
        "                param.requires_grad = False\n",
        "\n",
        "\n",
        "    def forward(self, input_ids, attention_mask):\n",
        "\n",
        "        _, pooled_output = self.model(input_ids=input_ids,\n",
        "                                      attention_mask=attention_mask)\n",
        "\n",
        "        output = self.drop(pooled_output)\n",
        "\n",
        "        return self.out(output)"
      ],
      "execution_count": null,
      "outputs": []
    },
    {
      "cell_type": "code",
      "metadata": {
        "id": "kdU1WuyW4h7s",
        "colab_type": "code",
        "colab": {}
      },
      "source": [
        "model = SentimentClassifier(len(class_names), freeze=False)\n",
        "model = model.to(device)"
      ],
      "execution_count": null,
      "outputs": []
    },
    {
      "cell_type": "code",
      "metadata": {
        "id": "A60dBYut8d2N",
        "colab_type": "code",
        "colab": {}
      },
      "source": [
        "EPOCHS = 6\n",
        "optimizer = AdamW(model.parameters(), lr=2e-5, correct_bias=False)\n",
        "total_steps = len(train_data_loader) * EPOCHS\n",
        "scheduler = get_linear_schedule_with_warmup(optimizer,\n",
        "                                            num_warmup_steps=total_steps // 10,\n",
        "                                            num_training_steps=total_steps)\n",
        "loss_fn = nn.CrossEntropyLoss().to(device)"
      ],
      "execution_count": null,
      "outputs": []
    },
    {
      "cell_type": "code",
      "metadata": {
        "id": "gq7TWxkr9-Vj",
        "colab_type": "code",
        "colab": {}
      },
      "source": [
        "def train_epoch(model, data_loader, loss_fn, optimizer, device, \n",
        "                scheduler, n_examples):\n",
        "\n",
        "    model = model.train()\n",
        "\n",
        "    losses = []\n",
        "    correct_predictions = 0\n",
        "  \n",
        "    for d in data_loader:\n",
        "\n",
        "        input_ids = d[\"input_ids\"].to(device)\n",
        "        attention_mask = d[\"attention_mask\"].to(device)\n",
        "        targets = d[\"targets\"].to(device)\n",
        "\n",
        "        outputs = model(input_ids=input_ids,\n",
        "                        attention_mask=attention_mask)\n",
        "\n",
        "        _, preds = torch.max(outputs, dim=1)\n",
        "        loss = loss_fn(outputs, targets)\n",
        "\n",
        "        correct_predictions += torch.sum(preds == targets)\n",
        "        losses.append(loss.item())\n",
        "\n",
        "        loss.backward()\n",
        "        nn.utils.clip_grad_norm_(model.parameters(), max_norm=1.0)\n",
        "        optimizer.step()\n",
        "        scheduler.step()\n",
        "        optimizer.zero_grad()\n",
        "\n",
        "    return correct_predictions.double() / n_examples, np.mean(losses)\n",
        "\n",
        "\n",
        "def eval_model(model, data_loader, loss_fn, device, n_examples):\n",
        "    \n",
        "    model = model.eval()\n",
        "\n",
        "    losses = []\n",
        "    correct_predictions = 0\n",
        "\n",
        "    with torch.no_grad():\n",
        "        for d in data_loader:\n",
        "            input_ids = d[\"input_ids\"].to(device)\n",
        "            attention_mask = d[\"attention_mask\"].to(device)\n",
        "            targets = d[\"targets\"].to(device)\n",
        "\n",
        "            outputs = model(\n",
        "            input_ids=input_ids,\n",
        "            attention_mask=attention_mask\n",
        "            )\n",
        "            _, preds = torch.max(outputs, dim=1)\n",
        "\n",
        "            loss = loss_fn(outputs, targets)\n",
        "\n",
        "            correct_predictions += torch.sum(preds == targets)\n",
        "            losses.append(loss.item())\n",
        "\n",
        "    return correct_predictions.double() / n_examples, np.mean(losses)"
      ],
      "execution_count": null,
      "outputs": []
    },
    {
      "cell_type": "markdown",
      "metadata": {
        "id": "bcfBVp_-pz-b",
        "colab_type": "text"
      },
      "source": [
        "## Entrenamiento"
      ]
    },
    {
      "cell_type": "code",
      "metadata": {
        "id": "aaTHPRhP-wDf",
        "colab_type": "code",
        "colab": {
          "base_uri": "https://localhost:8080/",
          "height": 586
        },
        "outputId": "e64f600c-2b48-42c8-ebd8-3ec9e7303412"
      },
      "source": [
        "%%time\n",
        "TRAIN_MODEL = False\n",
        "\n",
        "if TRAIN_MODEL:\n",
        "    history = defaultdict(list)\n",
        "    best_accuracy = 0\n",
        "\n",
        "    for epoch in range(EPOCHS):\n",
        "\n",
        "        print(f'Epoch {epoch + 1}/{EPOCHS}')\n",
        "        print('-' * 10)\n",
        "\n",
        "        train_acc, train_loss = train_epoch(model,\n",
        "                                            train_data_loader,\n",
        "                                            loss_fn,\n",
        "                                            optimizer,\n",
        "                                            device,\n",
        "                                            scheduler,\n",
        "                                            len(train_data))\n",
        "\n",
        "        print(f'Train loss {train_loss} accuracy {train_acc}')\n",
        "\n",
        "        val_acc, val_loss = eval_model(model,\n",
        "                                    val_data_loader,\n",
        "                                    loss_fn,\n",
        "                                    device,\n",
        "                                    len(val_data))\n",
        "\n",
        "        print(f'Val   loss {val_loss} accuracy {val_acc}')\n",
        "        print()\n",
        "\n",
        "        history['train_acc'].append(train_acc)\n",
        "        history['train_loss'].append(train_loss)\n",
        "        history['val_acc'].append(val_acc)\n",
        "        history['val_loss'].append(val_loss)\n",
        "\n",
        "        if val_acc > best_accuracy:\n",
        "            torch.save(model.state_dict(), 'best_roBERTa_model_state.bin')\n",
        "            best_accuracy = val_acc\n",
        "\n",
        "    files.download('best_roBERTa_model_state.bin') \n",
        "\n",
        "else:\n",
        "\n",
        "    !gdown --id 1tsdW4_HKA0c41ha7Y2NGHuCZklSjY1ic\n",
        "    model = SentimentClassifier(len(class_names))\n",
        "    model.load_state_dict(torch.load('best_roBERTa_model_state.bin'))\n",
        "    model = model.to(device)"
      ],
      "execution_count": null,
      "outputs": [
        {
          "output_type": "stream",
          "text": [
            "Epoch 1/6\n",
            "----------\n",
            "Train loss 0.3195544905754041 accuracy 0.8766666666666667\n",
            "Val   loss 0.23884828162385494 accuracy 0.9312\n",
            "\n",
            "Epoch 2/6\n",
            "----------\n",
            "Train loss 0.1807744433281264 accuracy 0.9469333333333334\n",
            "Val   loss 0.26680053115946945 accuracy 0.9304\n",
            "\n",
            "Epoch 3/6\n",
            "----------\n",
            "Train loss 0.1209496801116556 accuracy 0.9708888888888889\n",
            "Val   loss 0.32476517806351657 accuracy 0.9304\n",
            "\n",
            "Epoch 4/6\n",
            "----------\n",
            "Train loss 0.0852393722321339 accuracy 0.9814222222222223\n",
            "Val   loss 0.33289756172909074 accuracy 0.9352\n",
            "\n",
            "Epoch 5/6\n",
            "----------\n",
            "Train loss 0.05849473650551348 accuracy 0.9888888888888889\n",
            "Val   loss 0.336986251902814 accuracy 0.9364\n",
            "\n",
            "Epoch 6/6\n",
            "----------\n",
            "Train loss 0.04360586750860887 accuracy 0.9918666666666667\n",
            "Val   loss 0.3571545996170811 accuracy 0.9364\n",
            "\n"
          ],
          "name": "stdout"
        },
        {
          "output_type": "display_data",
          "data": {
            "application/javascript": [
              "\n",
              "    async function download(id, filename, size) {\n",
              "      if (!google.colab.kernel.accessAllowed) {\n",
              "        return;\n",
              "      }\n",
              "      const div = document.createElement('div');\n",
              "      const label = document.createElement('label');\n",
              "      label.textContent = `Downloading \"${filename}\": `;\n",
              "      div.appendChild(label);\n",
              "      const progress = document.createElement('progress');\n",
              "      progress.max = size;\n",
              "      div.appendChild(progress);\n",
              "      document.body.appendChild(div);\n",
              "\n",
              "      const buffers = [];\n",
              "      let downloaded = 0;\n",
              "\n",
              "      const channel = await google.colab.kernel.comms.open(id);\n",
              "      // Send a message to notify the kernel that we're ready.\n",
              "      channel.send({})\n",
              "\n",
              "      for await (const message of channel.messages) {\n",
              "        // Send a message to notify the kernel that we're ready.\n",
              "        channel.send({})\n",
              "        if (message.buffers) {\n",
              "          for (const buffer of message.buffers) {\n",
              "            buffers.push(buffer);\n",
              "            downloaded += buffer.byteLength;\n",
              "            progress.value = downloaded;\n",
              "          }\n",
              "        }\n",
              "      }\n",
              "      const blob = new Blob(buffers, {type: 'application/binary'});\n",
              "      const a = document.createElement('a');\n",
              "      a.href = window.URL.createObjectURL(blob);\n",
              "      a.download = filename;\n",
              "      div.appendChild(a);\n",
              "      a.click();\n",
              "      div.remove();\n",
              "    }\n",
              "  "
            ],
            "text/plain": [
              "<IPython.core.display.Javascript object>"
            ]
          },
          "metadata": {
            "tags": []
          }
        },
        {
          "output_type": "display_data",
          "data": {
            "application/javascript": [
              "download(\"download_6c2d6a45-297f-4ec3-88be-abea4c78c84e\", \"best_roBERTa_model_state.bin\", 498671955)"
            ],
            "text/plain": [
              "<IPython.core.display.Javascript object>"
            ]
          },
          "metadata": {
            "tags": []
          }
        },
        {
          "output_type": "stream",
          "text": [
            "CPU times: user 1h 47min 31s, sys: 1h 21min 28s, total: 3h 9min\n",
            "Wall time: 3h 9min 57s\n"
          ],
          "name": "stdout"
        }
      ]
    },
    {
      "cell_type": "markdown",
      "metadata": {
        "id": "DwRs1EDip3Js",
        "colab_type": "text"
      },
      "source": [
        "## Evaluación del modelo entrenado"
      ]
    },
    {
      "cell_type": "code",
      "metadata": {
        "id": "OQwYpdMp3uMm",
        "colab_type": "code",
        "colab": {}
      },
      "source": [
        "def get_predictions(model, data_loader):\n",
        "\n",
        "    model = model.eval()\n",
        "\n",
        "    content_texts = []\n",
        "    predictions = []\n",
        "    prediction_probs = []\n",
        "    real_values = []\n",
        "\n",
        "    with torch.no_grad():\n",
        "        for d in data_loader:\n",
        "\n",
        "            texts = d[\"content_text\"]\n",
        "            input_ids = d[\"input_ids\"].to(device)\n",
        "            attention_mask = d[\"attention_mask\"].to(device)\n",
        "            targets = d[\"targets\"].to(device)\n",
        "\n",
        "            outputs = model(\n",
        "            input_ids=input_ids,\n",
        "            attention_mask=attention_mask\n",
        "            )\n",
        "            _, preds = torch.max(outputs, dim=1)\n",
        "\n",
        "            probs = nn.functional.softmax(outputs, dim=1)\n",
        "\n",
        "            content_texts.extend(texts)\n",
        "            predictions.extend(preds)\n",
        "            prediction_probs.extend(probs)\n",
        "            real_values.extend(targets)\n",
        "\n",
        "    predictions = torch.stack(predictions).cpu()\n",
        "    prediction_probs = torch.stack(prediction_probs).cpu()\n",
        "    real_values = torch.stack(real_values).cpu()\n",
        "    return content_texts, predictions, prediction_probs, real_values"
      ],
      "execution_count": null,
      "outputs": []
    },
    {
      "cell_type": "code",
      "metadata": {
        "id": "gyry_ibV6up1",
        "colab_type": "code",
        "colab": {}
      },
      "source": [
        "y_content_texts, y_pred, y_pred_probs, y_test = get_predictions(model,\n",
        "                                                               test_data_loader)"
      ],
      "execution_count": null,
      "outputs": []
    },
    {
      "cell_type": "code",
      "metadata": {
        "id": "onanKL7l6x50",
        "colab_type": "code",
        "colab": {
          "base_uri": "https://localhost:8080/",
          "height": 195
        },
        "outputId": "9510622e-be6f-4048-a205-477f0e11242c"
      },
      "source": [
        "print(classification_report(y_test, y_pred, target_names=class_names))\n",
        "test_roc = roc_auc_score(y_test, y_pred_probs[:,1].numpy())\n",
        "print(test_roc)"
      ],
      "execution_count": null,
      "outputs": [
        {
          "output_type": "stream",
          "text": [
            "              precision    recall  f1-score   support\n",
            "\n",
            "    negative       0.94      0.94      0.94     12500\n",
            "    positive       0.94      0.94      0.94     12500\n",
            "\n",
            "    accuracy                           0.94     25000\n",
            "   macro avg       0.94      0.94      0.94     25000\n",
            "weighted avg       0.94      0.94      0.94     25000\n",
            "\n",
            "0.9837877536\n"
          ],
          "name": "stdout"
        }
      ]
    },
    {
      "cell_type": "code",
      "metadata": {
        "id": "a2XQG-4tDSqe",
        "colab_type": "code",
        "colab": {
          "base_uri": "https://localhost:8080/",
          "height": 295
        },
        "outputId": "384a2597-bcf0-4845-dc62-7c2ee1112fae"
      },
      "source": [
        "fpr, tpr, threshold = roc_curve(y_test, y_pred_probs[:,1].numpy())\n",
        "plt.title('Receiver Operating Characteristic')\n",
        "plt.plot(fpr, tpr, 'b', label = 'AUC = %0.2f' % test_roc)\n",
        "plt.legend(loc = 'lower right')\n",
        "plt.plot([0, 1], [0, 1],'r--')\n",
        "plt.xlim([0, 1])\n",
        "plt.ylim([0, 1])\n",
        "plt.ylabel('True Positive Rate')\n",
        "plt.xlabel('False Positive Rate')\n",
        "plt.show()"
      ],
      "execution_count": null,
      "outputs": [
        {
          "output_type": "display_data",
          "data": {
            "image/png": "[encoded data removed]",
            "text/plain": [
              "<Figure size 432x288 with 1 Axes>"
            ]
          },
          "metadata": {
            "tags": [],
            "needs_background": "light"
          }
        }
      ]
    }
  ]
}