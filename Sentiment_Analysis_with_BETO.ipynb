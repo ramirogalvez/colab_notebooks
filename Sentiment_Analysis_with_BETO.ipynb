{
  "nbformat": 4,
  "nbformat_minor": 0,
  "metadata": {
    "colab": {
      "name": "Sentiment Analysis with BETO",
      "provenance": [],
      "include_colab_link": true
    },
    "kernelspec": {
      "name": "python3",
      "display_name": "Python 3"
    },
    "accelerator": "GPU"
  },
  "cells": [
    {
      "cell_type": "markdown",
      "metadata": {
        "id": "view-in-github",
        "colab_type": "text"
      },
      "source": [
        "<a href=\"https://colab.research.google.com/github/ramirogalvez/colab_notebooks/blob/master/Sentiment_Analysis_with_BETO.ipynb\" target=\"_parent\"><img src=\"https://colab.research.google.com/assets/colab-badge.svg\" alt=\"Open In Colab\"/></a>"
      ]
    },
    {
      "cell_type": "markdown",
      "metadata": {
        "id": "WWO8bfmaztvt"
      },
      "source": [
        "**Author**: Ramiro Gálvez (Twitter handle: [@RamiroHGalvez](https://twitter.com/RamiroHGalvez))\n",
        "\n",
        "**Date**: 2023-06-30"
      ]
    },
    {
      "cell_type": "code",
      "metadata": {
        "id": "Gl-HIAgFZTpW",
        "colab": {
          "base_uri": "https://localhost:8080/"
        },
        "outputId": "de813b44-e52a-45ab-d291-f9a42790b945"
      },
      "source": [
        "!pip install -qq transformers\n",
        "!gdown 1bvhV2HuyYRSO_y2eHV4Nh0gJoWxtzgSX\n",
        "!nvidia-smi"
      ],
      "execution_count": 1,
      "outputs": [
        {
          "output_type": "stream",
          "name": "stdout",
          "text": [
            "Downloading...\n",
            "From: https://drive.google.com/uc?id=1bvhV2HuyYRSO_y2eHV4Nh0gJoWxtzgSX\n",
            "To: /content/reviews.zip\n",
            "\r  0% 0.00/5.26M [00:00<?, ?B/s]\r100% 5.26M/5.26M [00:00<00:00, 193MB/s]\n",
            "Fri Jun 30 20:39:26 2023       \n",
            "+-----------------------------------------------------------------------------+\n",
            "| NVIDIA-SMI 525.85.12    Driver Version: 525.85.12    CUDA Version: 12.0     |\n",
            "|-------------------------------+----------------------+----------------------+\n",
            "| GPU  Name        Persistence-M| Bus-Id        Disp.A | Volatile Uncorr. ECC |\n",
            "| Fan  Temp  Perf  Pwr:Usage/Cap|         Memory-Usage | GPU-Util  Compute M. |\n",
            "|                               |                      |               MIG M. |\n",
            "|===============================+======================+======================|\n",
            "|   0  Tesla T4            Off  | 00000000:00:04.0 Off |                    0 |\n",
            "| N/A   72C    P8    14W /  70W |      0MiB / 15360MiB |      0%      Default |\n",
            "|                               |                      |                  N/A |\n",
            "+-------------------------------+----------------------+----------------------+\n",
            "                                                                               \n",
            "+-----------------------------------------------------------------------------+\n",
            "| Processes:                                                                  |\n",
            "|  GPU   GI   CI        PID   Type   Process name                  GPU Memory |\n",
            "|        ID   ID                                                   Usage      |\n",
            "|=============================================================================|\n",
            "|  No running processes found                                                 |\n",
            "+-----------------------------------------------------------------------------+\n"
          ]
        }
      ]
    },
    {
      "cell_type": "code",
      "metadata": {
        "id": "h6QB1f33aQZD"
      },
      "source": [
        "import requests\n",
        "import zipfile\n",
        "import os\n",
        "import numpy as np\n",
        "import pandas as pd\n",
        "import torch\n",
        "import matplotlib.pyplot as plt\n",
        "from google.colab import files\n",
        "from collections import defaultdict\n",
        "from sklearn.model_selection import train_test_split\n",
        "from torch import nn, optim\n",
        "from torch.optim import AdamW\n",
        "from torch.utils.data import Dataset, DataLoader\n",
        "from transformers import BertModel, BertTokenizer, get_linear_schedule_with_warmup\n",
        "from sklearn.metrics import classification_report, roc_auc_score, roc_curve\n"
      ],
      "execution_count": 2,
      "outputs": []
    },
    {
      "cell_type": "code",
      "metadata": {
        "id": "PmS3Fme3nGoh"
      },
      "source": [
        "# Seteos de la notebook\n",
        "RANDOM_SEED = 42\n",
        "np.random.seed(RANDOM_SEED)\n",
        "torch.manual_seed(RANDOM_SEED)\n",
        "device = torch.device(\"cuda:0\" if torch.cuda.is_available() else \"cpu\")"
      ],
      "execution_count": 3,
      "outputs": []
    },
    {
      "cell_type": "markdown",
      "metadata": {
        "id": "d5p3Equ4ZY0F"
      },
      "source": [
        "# BETO para Análisis de Sentimiento"
      ]
    },
    {
      "cell_type": "markdown",
      "metadata": {
        "id": "gEf8nHApOu6N"
      },
      "source": [
        "En esta notebook se presenta el código para entrenar un modelo de análisis de sentimiento a partir de un modelo BERT (BETO) pre entrenado (transfer learning). La notebook hace uso fuerte de la librería transformers de huggingface y puede adaptarse de manera simple (trivial) a otros problemas de clasificación de textos (cortos)."
      ]
    },
    {
      "cell_type": "markdown",
      "metadata": {
        "id": "cAyKpSzWpCvv"
      },
      "source": [
        "## Carga de los datos"
      ]
    },
    {
      "cell_type": "code",
      "metadata": {
        "id": "xDBbBs43ZzMk"
      },
      "source": [
        "def process_document(doc_name, metadata, document):\n",
        "\n",
        "    review_id = doc_name.replace(\".txt\", \"\")\n",
        "\n",
        "    rating = metadata[review_id]\n",
        "\n",
        "    r_class = 1 if rating == \"Malo\" else 0\n",
        "\n",
        "    return {\"review_id\": review_id,\n",
        "            \"rating\": rating,\n",
        "            \"content\": document,\n",
        "            \"sentiment\": r_class}\n",
        "\n",
        "\n",
        "def carga_path(data_path, sent_dict):\n",
        "\n",
        "    comments_data = []\n",
        "    for d in os.listdir(data_path):\n",
        "        with open(data_path + d, encoding=\"utf-8\") as f:\n",
        "            comments_data.append(process_document(d, sent_dict, f.read()))\n",
        "\n",
        "    return pd.DataFrame(comments_data)\n",
        "\n",
        "\n",
        "def carga_datos_reviews():\n",
        "\n",
        "    # Descarga el archivo zip y lo descomprime en el server de Google\n",
        "    z = zipfile.ZipFile(\"reviews.zip\")\n",
        "    z.extractall()\n",
        "\n",
        "    # Carga clases\n",
        "    with open(\"./reviews/clasificacion.txt\", encoding=\"utf-8\") as f:\n",
        "        sent_dic = [e.strip() for e in f.readlines()[1:]]\n",
        "        sent_dic = [e.replace(\"Muy buena\", \"Muy_buena\").split() for e in sent_dic]\n",
        "\n",
        "    sent_dict = {e[0]:e[1] for e in sent_dic}\n",
        "\n",
        "    # Carga el corpus\n",
        "    reviews_data = carga_path(\"./reviews/corpus/\", sent_dict)\n",
        "\n",
        "    return reviews_data"
      ],
      "execution_count": 4,
      "outputs": []
    },
    {
      "cell_type": "code",
      "metadata": {
        "id": "oBgKrxvKbIdf"
      },
      "source": [
        "train_data = carga_datos_reviews()\n",
        "\n",
        "class_names = ['no_malo', 'malo']\n",
        "\n",
        "train_data, test_data = train_test_split(train_data,\n",
        "                                         test_size=0.1,\n",
        "                                         random_state=RANDOM_SEED)\n",
        "\n",
        "train_data, val_data = train_test_split(train_data,\n",
        "                                        test_size=0.1,\n",
        "                                        random_state=RANDOM_SEED)"
      ],
      "execution_count": 5,
      "outputs": []
    },
    {
      "cell_type": "code",
      "metadata": {
        "id": "I2GanIv6jmiS",
        "colab": {
          "base_uri": "https://localhost:8080/",
          "height": 206
        },
        "outputId": "f896832a-26a2-4a01-b017-0237dd6da41d"
      },
      "source": [
        "train_data.head()"
      ],
      "execution_count": 6,
      "outputs": [
        {
          "output_type": "execute_result",
          "data": {
            "text/plain": [
              "               review_id     rating  \\\n",
              "2198    comment_id_89499  Muy_buena   \n",
              "8980    comment_id_52507      Buena   \n",
              "12932  comment_id_207724  Excelente   \n",
              "8662    comment_id_77834  Muy_buena   \n",
              "5261   comment_id_246652  Muy_buena   \n",
              "\n",
              "                                                 content  sentiment  \n",
              "2198   La comida era bastante rica pero las porciones...          0  \n",
              "8980                                     un poco lento.           0  \n",
              "12932  Es excelente, vale lo que cuesta y en comparac...          0  \n",
              "8662   Repetimos \"Segundo\" y valió la pena. La atenci...          0  \n",
              "5261   Lugar pintoresco pero ruidoso, las mesas muy j...          0  "
            ],
            "text/html": [
              "\n",
              "  <div id=\"df-b0fb4c4b-9373-4f53-8b1a-c5c6f2fa6cb8\">\n",
              "    <div class=\"colab-df-container\">\n",
              "      <div>\n",
              "<style scoped>\n",
              "    .dataframe tbody tr th:only-of-type {\n",
              "        vertical-align: middle;\n",
              "    }\n",
              "\n",
              "    .dataframe tbody tr th {\n",
              "        vertical-align: top;\n",
              "    }\n",
              "\n",
              "    .dataframe thead th {\n",
              "        text-align: right;\n",
              "    }\n",
              "</style>\n",
              "<table border=\"1\" class=\"dataframe\">\n",
              "  <thead>\n",
              "    <tr style=\"text-align: right;\">\n",
              "      <th></th>\n",
              "      <th>review_id</th>\n",
              "      <th>rating</th>\n",
              "      <th>content</th>\n",
              "      <th>sentiment</th>\n",
              "    </tr>\n",
              "  </thead>\n",
              "  <tbody>\n",
              "    <tr>\n",
              "      <th>2198</th>\n",
              "      <td>comment_id_89499</td>\n",
              "      <td>Muy_buena</td>\n",
              "      <td>La comida era bastante rica pero las porciones...</td>\n",
              "      <td>0</td>\n",
              "    </tr>\n",
              "    <tr>\n",
              "      <th>8980</th>\n",
              "      <td>comment_id_52507</td>\n",
              "      <td>Buena</td>\n",
              "      <td>un poco lento.</td>\n",
              "      <td>0</td>\n",
              "    </tr>\n",
              "    <tr>\n",
              "      <th>12932</th>\n",
              "      <td>comment_id_207724</td>\n",
              "      <td>Excelente</td>\n",
              "      <td>Es excelente, vale lo que cuesta y en comparac...</td>\n",
              "      <td>0</td>\n",
              "    </tr>\n",
              "    <tr>\n",
              "      <th>8662</th>\n",
              "      <td>comment_id_77834</td>\n",
              "      <td>Muy_buena</td>\n",
              "      <td>Repetimos \"Segundo\" y valió la pena. La atenci...</td>\n",
              "      <td>0</td>\n",
              "    </tr>\n",
              "    <tr>\n",
              "      <th>5261</th>\n",
              "      <td>comment_id_246652</td>\n",
              "      <td>Muy_buena</td>\n",
              "      <td>Lugar pintoresco pero ruidoso, las mesas muy j...</td>\n",
              "      <td>0</td>\n",
              "    </tr>\n",
              "  </tbody>\n",
              "</table>\n",
              "</div>\n",
              "      <button class=\"colab-df-convert\" onclick=\"convertToInteractive('df-b0fb4c4b-9373-4f53-8b1a-c5c6f2fa6cb8')\"\n",
              "              title=\"Convert this dataframe to an interactive table.\"\n",
              "              style=\"display:none;\">\n",
              "        \n",
              "  <svg xmlns=\"http://www.w3.org/2000/svg\" height=\"24px\"viewBox=\"0 0 24 24\"\n",
              "       width=\"24px\">\n",
              "    <path d=\"M0 0h24v24H0V0z\" fill=\"none\"/>\n",
              "    <path d=\"M18.56 5.44l.94 2.06.94-2.06 2.06-.94-2.06-.94-.94-2.06-.94 2.06-2.06.94zm-11 1L8.5 8.5l.94-2.06 2.06-.94-2.06-.94L8.5 2.5l-.94 2.06-2.06.94zm10 10l.94 2.06.94-2.06 2.06-.94-2.06-.94-.94-2.06-.94 2.06-2.06.94z\"/><path d=\"M17.41 7.96l-1.37-1.37c-.4-.4-.92-.59-1.43-.59-.52 0-1.04.2-1.43.59L10.3 9.45l-7.72 7.72c-.78.78-.78 2.05 0 2.83L4 21.41c.39.39.9.59 1.41.59.51 0 1.02-.2 1.41-.59l7.78-7.78 2.81-2.81c.8-.78.8-2.07 0-2.86zM5.41 20L4 18.59l7.72-7.72 1.47 1.35L5.41 20z\"/>\n",
              "  </svg>\n",
              "      </button>\n",
              "      \n",
              "  <style>\n",
              "    .colab-df-container {\n",
              "      display:flex;\n",
              "      flex-wrap:wrap;\n",
              "      gap: 12px;\n",
              "    }\n",
              "\n",
              "    .colab-df-convert {\n",
              "      background-color: #E8F0FE;\n",
              "      border: none;\n",
              "      border-radius: 50%;\n",
              "      cursor: pointer;\n",
              "      display: none;\n",
              "      fill: #1967D2;\n",
              "      height: 32px;\n",
              "      padding: 0 0 0 0;\n",
              "      width: 32px;\n",
              "    }\n",
              "\n",
              "    .colab-df-convert:hover {\n",
              "      background-color: #E2EBFA;\n",
              "      box-shadow: 0px 1px 2px rgba(60, 64, 67, 0.3), 0px 1px 3px 1px rgba(60, 64, 67, 0.15);\n",
              "      fill: #174EA6;\n",
              "    }\n",
              "\n",
              "    [theme=dark] .colab-df-convert {\n",
              "      background-color: #3B4455;\n",
              "      fill: #D2E3FC;\n",
              "    }\n",
              "\n",
              "    [theme=dark] .colab-df-convert:hover {\n",
              "      background-color: #434B5C;\n",
              "      box-shadow: 0px 1px 3px 1px rgba(0, 0, 0, 0.15);\n",
              "      filter: drop-shadow(0px 1px 2px rgba(0, 0, 0, 0.3));\n",
              "      fill: #FFFFFF;\n",
              "    }\n",
              "  </style>\n",
              "\n",
              "      <script>\n",
              "        const buttonEl =\n",
              "          document.querySelector('#df-b0fb4c4b-9373-4f53-8b1a-c5c6f2fa6cb8 button.colab-df-convert');\n",
              "        buttonEl.style.display =\n",
              "          google.colab.kernel.accessAllowed ? 'block' : 'none';\n",
              "\n",
              "        async function convertToInteractive(key) {\n",
              "          const element = document.querySelector('#df-b0fb4c4b-9373-4f53-8b1a-c5c6f2fa6cb8');\n",
              "          const dataTable =\n",
              "            await google.colab.kernel.invokeFunction('convertToInteractive',\n",
              "                                                     [key], {});\n",
              "          if (!dataTable) return;\n",
              "\n",
              "          const docLinkHtml = 'Like what you see? Visit the ' +\n",
              "            '<a target=\"_blank\" href=https://colab.research.google.com/notebooks/data_table.ipynb>data table notebook</a>'\n",
              "            + ' to learn more about interactive tables.';\n",
              "          element.innerHTML = '';\n",
              "          dataTable['output_type'] = 'display_data';\n",
              "          await google.colab.output.renderOutput(dataTable, element);\n",
              "          const docLink = document.createElement('div');\n",
              "          docLink.innerHTML = docLinkHtml;\n",
              "          element.appendChild(docLink);\n",
              "        }\n",
              "      </script>\n",
              "    </div>\n",
              "  </div>\n",
              "  "
            ]
          },
          "metadata": {},
          "execution_count": 6
        }
      ]
    },
    {
      "cell_type": "markdown",
      "metadata": {
        "id": "MkkX_GNFpNRT"
      },
      "source": [
        "## Configuración de los data loaders para BETO"
      ]
    },
    {
      "cell_type": "code",
      "metadata": {
        "id": "MlB2fUO8tp9c"
      },
      "source": [
        "class SentimentDataset(Dataset):\n",
        "\n",
        "    def __init__(self, contents, targets, tokenizer, max_len):\n",
        "        self.contents = contents\n",
        "        self.targets = targets\n",
        "        self.tokenizer = tokenizer\n",
        "        self.max_len = max_len\n",
        "\n",
        "\n",
        "    def __len__(self):\n",
        "        return len(self.contents)\n",
        "\n",
        "\n",
        "    def __getitem__(self, item):\n",
        "        content = str(self.contents[item])\n",
        "        target = self.targets[item]\n",
        "\n",
        "        encoding = self.tokenizer.encode_plus(\n",
        "            content,\n",
        "            add_special_tokens=True,\n",
        "            max_length=self.max_len,\n",
        "            return_token_type_ids=False,\n",
        "            padding='max_length',\n",
        "            return_attention_mask=True,\n",
        "            return_tensors='pt',\n",
        "            truncation=True,\n",
        "        )\n",
        "\n",
        "        return {'content_text': content,\n",
        "                'input_ids': encoding['input_ids'].flatten(),\n",
        "                'attention_mask': encoding['attention_mask'].flatten(),\n",
        "                'targets': torch.tensor(target, dtype=torch.long)}\n",
        "\n",
        "\n",
        "def create_data_loader(df, tokenizer, max_len, batch_size):\n",
        "\n",
        "    ds = SentimentDataset(contents=df.content.to_numpy(),\n",
        "                           targets=df.sentiment.to_numpy(),\n",
        "                           tokenizer=tokenizer,\n",
        "                           max_len=max_len)\n",
        "\n",
        "    return DataLoader(ds,\n",
        "                      batch_size=batch_size,\n",
        "                      num_workers=2)"
      ],
      "execution_count": 7,
      "outputs": []
    },
    {
      "cell_type": "code",
      "metadata": {
        "id": "vSg_YMkJuOBd"
      },
      "source": [
        "MAX_LEN = 400\n",
        "BATCH_SIZE = 16\n",
        "PRE_TRAINED_MODEL_NAME = \"dccuchile/bert-base-spanish-wwm-uncased\"\n",
        "tokenizer = BertTokenizer.from_pretrained(PRE_TRAINED_MODEL_NAME)\n",
        "\n",
        "train_data_loader = create_data_loader(train_data, tokenizer, MAX_LEN, BATCH_SIZE)\n",
        "val_data_loader = create_data_loader(val_data, tokenizer, MAX_LEN, BATCH_SIZE)\n",
        "test_data_loader = create_data_loader(test_data, tokenizer, MAX_LEN, BATCH_SIZE)"
      ],
      "execution_count": 8,
      "outputs": []
    },
    {
      "cell_type": "markdown",
      "metadata": {
        "id": "M0BHnTxW1GLf"
      },
      "source": [
        "## Seteo del modelo propuesto (BETO + dropout + fully connected)"
      ]
    },
    {
      "cell_type": "code",
      "metadata": {
        "id": "OTCh6htR1Vfn"
      },
      "source": [
        "class SentimentClassifier(nn.Module):\n",
        "\n",
        "    def __init__(self, n_classes, freeze = False):\n",
        "\n",
        "        super(SentimentClassifier, self).__init__()\n",
        "        self.model = BertModel.from_pretrained(PRE_TRAINED_MODEL_NAME)\n",
        "        self.drop = nn.Dropout(p=0.3)\n",
        "        self.out = nn.Linear(self.model.config.hidden_size, n_classes)\n",
        "\n",
        "        if freeze:\n",
        "            for param in self.model.parameters():\n",
        "                param.requires_grad = False\n",
        "\n",
        "\n",
        "    def forward(self, input_ids, attention_mask):\n",
        "\n",
        "        _, pooled_output = self.model(input_ids=input_ids,\n",
        "                                      attention_mask=attention_mask,\n",
        "                                      return_dict=False)\n",
        "\n",
        "        output = self.drop(pooled_output)\n",
        "\n",
        "        return self.out(output)"
      ],
      "execution_count": 9,
      "outputs": []
    },
    {
      "cell_type": "code",
      "metadata": {
        "id": "kdU1WuyW4h7s",
        "colab": {
          "base_uri": "https://localhost:8080/"
        },
        "outputId": "c8da069b-cd84-49fe-b42a-c11be25f4b76"
      },
      "source": [
        "model = SentimentClassifier(len(class_names), freeze=False)\n",
        "model = model.to(device)"
      ],
      "execution_count": 10,
      "outputs": [
        {
          "output_type": "stream",
          "name": "stderr",
          "text": [
            "Some weights of the model checkpoint at dccuchile/bert-base-spanish-wwm-uncased were not used when initializing BertModel: ['cls.predictions.decoder.bias', 'cls.predictions.bias', 'cls.predictions.transform.dense.weight', 'cls.predictions.transform.dense.bias', 'cls.predictions.transform.LayerNorm.weight', 'cls.predictions.transform.LayerNorm.bias', 'cls.predictions.decoder.weight']\n",
            "- This IS expected if you are initializing BertModel from the checkpoint of a model trained on another task or with another architecture (e.g. initializing a BertForSequenceClassification model from a BertForPreTraining model).\n",
            "- This IS NOT expected if you are initializing BertModel from the checkpoint of a model that you expect to be exactly identical (initializing a BertForSequenceClassification model from a BertForSequenceClassification model).\n",
            "Some weights of BertModel were not initialized from the model checkpoint at dccuchile/bert-base-spanish-wwm-uncased and are newly initialized: ['bert.pooler.dense.bias', 'bert.pooler.dense.weight']\n",
            "You should probably TRAIN this model on a down-stream task to be able to use it for predictions and inference.\n"
          ]
        }
      ]
    },
    {
      "cell_type": "code",
      "metadata": {
        "id": "A60dBYut8d2N"
      },
      "source": [
        "EPOCHS = 6\n",
        "optimizer = AdamW(model.parameters(), lr=2e-5)\n",
        "total_steps = len(train_data_loader) * EPOCHS\n",
        "scheduler = get_linear_schedule_with_warmup(optimizer,\n",
        "                                            num_warmup_steps=total_steps // 10,\n",
        "                                            num_training_steps=total_steps)\n",
        "loss_fn = nn.CrossEntropyLoss().to(device)"
      ],
      "execution_count": 11,
      "outputs": []
    },
    {
      "cell_type": "code",
      "metadata": {
        "id": "gq7TWxkr9-Vj"
      },
      "source": [
        "def train_epoch(model, data_loader, loss_fn, optimizer, device,\n",
        "                scheduler, n_examples):\n",
        "\n",
        "    model = model.train()\n",
        "\n",
        "    losses = []\n",
        "    correct_predictions = 0\n",
        "\n",
        "    for d in data_loader:\n",
        "\n",
        "        input_ids = d[\"input_ids\"].to(device)\n",
        "        attention_mask = d[\"attention_mask\"].to(device)\n",
        "        targets = d[\"targets\"].to(device)\n",
        "\n",
        "        outputs = model(input_ids=input_ids,\n",
        "                        attention_mask=attention_mask)\n",
        "\n",
        "        _, preds = torch.max(outputs, dim=1)\n",
        "        loss = loss_fn(outputs, targets)\n",
        "\n",
        "        correct_predictions += torch.sum(preds == targets)\n",
        "        losses.append(loss.item())\n",
        "\n",
        "        loss.backward()\n",
        "        nn.utils.clip_grad_norm_(model.parameters(), max_norm=1.0)\n",
        "        optimizer.step()\n",
        "        scheduler.step()\n",
        "        optimizer.zero_grad()\n",
        "\n",
        "    return correct_predictions.double() / n_examples, np.mean(losses)\n",
        "\n",
        "\n",
        "def eval_model(model, data_loader, loss_fn, device, n_examples):\n",
        "\n",
        "    model = model.eval()\n",
        "\n",
        "    losses = []\n",
        "    correct_predictions = 0\n",
        "\n",
        "    with torch.no_grad():\n",
        "        for d in data_loader:\n",
        "            input_ids = d[\"input_ids\"].to(device)\n",
        "            attention_mask = d[\"attention_mask\"].to(device)\n",
        "            targets = d[\"targets\"].to(device)\n",
        "\n",
        "            outputs = model(\n",
        "            input_ids=input_ids,\n",
        "            attention_mask=attention_mask\n",
        "            )\n",
        "            _, preds = torch.max(outputs, dim=1)\n",
        "\n",
        "            loss = loss_fn(outputs, targets)\n",
        "\n",
        "            correct_predictions += torch.sum(preds == targets)\n",
        "            losses.append(loss.item())\n",
        "\n",
        "    return correct_predictions.double() / n_examples, np.mean(losses)"
      ],
      "execution_count": 12,
      "outputs": []
    },
    {
      "cell_type": "markdown",
      "metadata": {
        "id": "bcfBVp_-pz-b"
      },
      "source": [
        "## Entrenamiento"
      ]
    },
    {
      "cell_type": "code",
      "metadata": {
        "id": "aaTHPRhP-wDf",
        "colab": {
          "base_uri": "https://localhost:8080/",
          "height": 590
        },
        "outputId": "3023125c-f303-43a2-e9f1-f1f4decdb94b"
      },
      "source": [
        "%%time\n",
        "TRAIN_MODEL = True\n",
        "\n",
        "if TRAIN_MODEL:\n",
        "    history = defaultdict(list)\n",
        "    best_accuracy = 0\n",
        "\n",
        "    for epoch in range(EPOCHS):\n",
        "\n",
        "        print(f'Epoch {epoch + 1}/{EPOCHS}')\n",
        "        print('-' * 10)\n",
        "\n",
        "        train_acc, train_loss = train_epoch(model,\n",
        "                                            train_data_loader,\n",
        "                                            loss_fn,\n",
        "                                            optimizer,\n",
        "                                            device,\n",
        "                                            scheduler,\n",
        "                                            len(train_data))\n",
        "\n",
        "        print(f'Train loss {train_loss} accuracy {train_acc}')\n",
        "\n",
        "        val_acc, val_loss = eval_model(model,\n",
        "                                    val_data_loader,\n",
        "                                    loss_fn,\n",
        "                                    device,\n",
        "                                    len(val_data))\n",
        "\n",
        "        print(f'Val   loss {val_loss} accuracy {val_acc}')\n",
        "        print()\n",
        "\n",
        "        history['train_acc'].append(train_acc)\n",
        "        history['train_loss'].append(train_loss)\n",
        "        history['val_acc'].append(val_acc)\n",
        "        history['val_loss'].append(val_loss)\n",
        "\n",
        "        if val_acc > best_accuracy:\n",
        "            torch.save(model.state_dict(), 'best_BETO_model_state.bin')\n",
        "            best_accuracy = val_acc\n",
        "\n",
        "    files.download('best_BETO_model_state.bin')\n",
        "\n",
        "else:\n",
        "\n",
        "    !gdown --id 1XZDrlaIsZ2QNwGzm5Jtj6rWBadKfcUSE\n",
        "    model = SentimentClassifier(len(class_names))\n",
        "    model.load_state_dict(torch.load('best_BETO_model_state.bin'))\n",
        "    model = model.to(device)"
      ],
      "execution_count": 13,
      "outputs": [
        {
          "output_type": "stream",
          "name": "stdout",
          "text": [
            "Epoch 1/6\n",
            "----------\n",
            "Train loss 0.2171047477523211 accuracy 0.9081537019681349\n",
            "Val   loss 0.20468285334296524 accuracy 0.9333895446880269\n",
            "\n",
            "Epoch 2/6\n",
            "----------\n",
            "Train loss 0.12459820289251351 accuracy 0.9536082474226805\n",
            "Val   loss 0.2791502247904039 accuracy 0.9342327150084316\n",
            "\n",
            "Epoch 3/6\n",
            "----------\n",
            "Train loss 0.07077671236936209 accuracy 0.9795688847235239\n",
            "Val   loss 0.3193307066580746 accuracy 0.9376053962900506\n",
            "\n",
            "Epoch 4/6\n",
            "----------\n",
            "Train loss 0.026958855225388177 accuracy 0.9935332708528585\n",
            "Val   loss 0.42469616352949136 accuracy 0.93929173693086\n",
            "\n",
            "Epoch 5/6\n",
            "----------\n",
            "Train loss 0.01378127124685968 accuracy 0.9969072164948454\n",
            "Val   loss 0.44147661070732286 accuracy 0.9350758853288363\n",
            "\n",
            "Epoch 6/6\n",
            "----------\n",
            "Train loss 0.005610094048288825 accuracy 0.9986879100281162\n",
            "Val   loss 0.4563480897231784 accuracy 0.9376053962900506\n",
            "\n"
          ]
        },
        {
          "output_type": "display_data",
          "data": {
            "text/plain": [
              "<IPython.core.display.Javascript object>"
            ],
            "application/javascript": [
              "\n",
              "    async function download(id, filename, size) {\n",
              "      if (!google.colab.kernel.accessAllowed) {\n",
              "        return;\n",
              "      }\n",
              "      const div = document.createElement('div');\n",
              "      const label = document.createElement('label');\n",
              "      label.textContent = `Downloading \"${filename}\": `;\n",
              "      div.appendChild(label);\n",
              "      const progress = document.createElement('progress');\n",
              "      progress.max = size;\n",
              "      div.appendChild(progress);\n",
              "      document.body.appendChild(div);\n",
              "\n",
              "      const buffers = [];\n",
              "      let downloaded = 0;\n",
              "\n",
              "      const channel = await google.colab.kernel.comms.open(id);\n",
              "      // Send a message to notify the kernel that we're ready.\n",
              "      channel.send({})\n",
              "\n",
              "      for await (const message of channel.messages) {\n",
              "        // Send a message to notify the kernel that we're ready.\n",
              "        channel.send({})\n",
              "        if (message.buffers) {\n",
              "          for (const buffer of message.buffers) {\n",
              "            buffers.push(buffer);\n",
              "            downloaded += buffer.byteLength;\n",
              "            progress.value = downloaded;\n",
              "          }\n",
              "        }\n",
              "      }\n",
              "      const blob = new Blob(buffers, {type: 'application/binary'});\n",
              "      const a = document.createElement('a');\n",
              "      a.href = window.URL.createObjectURL(blob);\n",
              "      a.download = filename;\n",
              "      div.appendChild(a);\n",
              "      a.click();\n",
              "      div.remove();\n",
              "    }\n",
              "  "
            ]
          },
          "metadata": {}
        },
        {
          "output_type": "display_data",
          "data": {
            "text/plain": [
              "<IPython.core.display.Javascript object>"
            ],
            "application/javascript": [
              "download(\"download_215488bc-0aca-4754-898d-5c3e52582810\", \"best_BETO_model_state.bin\", 439498581)"
            ]
          },
          "metadata": {}
        },
        {
          "output_type": "stream",
          "name": "stdout",
          "text": [
            "CPU times: user 1h 17min 6s, sys: 17.2 s, total: 1h 17min 23s\n",
            "Wall time: 1h 18min 59s\n"
          ]
        }
      ]
    },
    {
      "cell_type": "markdown",
      "metadata": {
        "id": "DwRs1EDip3Js"
      },
      "source": [
        "## Evaluación del modelo entrenado"
      ]
    },
    {
      "cell_type": "code",
      "metadata": {
        "id": "OQwYpdMp3uMm"
      },
      "source": [
        "def get_predictions(model, data_loader):\n",
        "\n",
        "    model = model.eval()\n",
        "\n",
        "    content_texts = []\n",
        "    predictions = []\n",
        "    prediction_probs = []\n",
        "    real_values = []\n",
        "\n",
        "    with torch.no_grad():\n",
        "        for d in data_loader:\n",
        "\n",
        "            texts = d[\"content_text\"]\n",
        "            input_ids = d[\"input_ids\"].to(device)\n",
        "            attention_mask = d[\"attention_mask\"].to(device)\n",
        "            targets = d[\"targets\"].to(device)\n",
        "\n",
        "            outputs = model(\n",
        "            input_ids=input_ids,\n",
        "            attention_mask=attention_mask\n",
        "            )\n",
        "            _, preds = torch.max(outputs, dim=1)\n",
        "\n",
        "            probs = nn.functional.softmax(outputs, dim=1)\n",
        "\n",
        "            content_texts.extend(texts)\n",
        "            predictions.extend(preds)\n",
        "            prediction_probs.extend(probs)\n",
        "            real_values.extend(targets)\n",
        "\n",
        "    predictions = torch.stack(predictions).cpu()\n",
        "    prediction_probs = torch.stack(prediction_probs).cpu()\n",
        "    real_values = torch.stack(real_values).cpu()\n",
        "    return content_texts, predictions, prediction_probs, real_values"
      ],
      "execution_count": 14,
      "outputs": []
    },
    {
      "cell_type": "code",
      "metadata": {
        "id": "gyry_ibV6up1"
      },
      "source": [
        "y_content_texts, y_pred, y_pred_probs, y_test = get_predictions(model,\n",
        "                                                               test_data_loader)"
      ],
      "execution_count": 15,
      "outputs": []
    },
    {
      "cell_type": "code",
      "metadata": {
        "id": "onanKL7l6x50",
        "colab": {
          "base_uri": "https://localhost:8080/"
        },
        "outputId": "202b18ed-5cf7-4923-d67e-f8a4ac8e8e28"
      },
      "source": [
        "print(classification_report(y_test, y_pred, target_names=class_names))\n",
        "test_roc = roc_auc_score(y_test, y_pred_probs[:,1].numpy())\n",
        "print(test_roc)"
      ],
      "execution_count": 16,
      "outputs": [
        {
          "output_type": "stream",
          "name": "stdout",
          "text": [
            "              precision    recall  f1-score   support\n",
            "\n",
            "     no_malo       0.96      0.96      0.96      1194\n",
            "        malo       0.64      0.62      0.63       124\n",
            "\n",
            "    accuracy                           0.93      1318\n",
            "   macro avg       0.80      0.79      0.80      1318\n",
            "weighted avg       0.93      0.93      0.93      1318\n",
            "\n",
            "0.945216674771708\n"
          ]
        }
      ]
    },
    {
      "cell_type": "code",
      "metadata": {
        "id": "a2XQG-4tDSqe",
        "colab": {
          "base_uri": "https://localhost:8080/",
          "height": 472
        },
        "outputId": "d350957c-d308-488d-99a1-0c627185e38b"
      },
      "source": [
        "fpr, tpr, threshold = roc_curve(y_test, y_pred_probs[:,1].numpy())\n",
        "plt.title('Receiver Operating Characteristic')\n",
        "plt.plot(fpr, tpr, 'b', label = 'AUC = %0.2f' % test_roc)\n",
        "plt.legend(loc = 'lower right')\n",
        "plt.plot([0, 1], [0, 1],'r--')\n",
        "plt.xlim([0, 1])\n",
        "plt.ylim([0, 1])\n",
        "plt.ylabel('True Positive Rate')\n",
        "plt.xlabel('False Positive Rate')\n",
        "plt.show()"
      ],
      "execution_count": 17,
      "outputs": [
        {
          "output_type": "display_data",
          "data": {
            "text/plain": [
              "<Figure size 640x480 with 1 Axes>"
            ],
            "image/png": "[encoded data removed]"
          },
          "metadata": {}
        }
      ]
    }
  ]
}