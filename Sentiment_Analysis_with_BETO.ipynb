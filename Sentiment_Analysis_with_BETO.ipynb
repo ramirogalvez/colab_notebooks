{
  "nbformat": 4,
  "nbformat_minor": 0,
  "metadata": {
    "colab": {
      "name": "Sentiment Analysis with BETO",
      "provenance": [],
      "collapsed_sections": [],
      "toc_visible": true,
      "include_colab_link": true
    },
    "kernelspec": {
      "name": "python3",
      "display_name": "Python 3"
    },
    "accelerator": "GPU"
  },
  "cells": [
    {
      "cell_type": "markdown",
      "metadata": {
        "id": "view-in-github",
        "colab_type": "text"
      },
      "source": [
        "<a href=\"https://colab.research.google.com/github/ramirogalvez/colab_notebooks/blob/master/Sentiment_Analysis_with_BETO.ipynb\" target=\"_parent\"><img src=\"https://colab.research.google.com/assets/colab-badge.svg\" alt=\"Open In Colab\"/></a>"
      ]
    },
    {
      "cell_type": "markdown",
      "metadata": {
        "id": "WWO8bfmaztvt",
        "colab_type": "text"
      },
      "source": [
        "**Author**: Ramiro Gálvez (Twitter handle: [@RamiroHGalvez](https://twitter.com/RamiroHGalvez))\n",
        "\n",
        "**Date**: 2020-08-26"
      ]
    },
    {
      "cell_type": "code",
      "metadata": {
        "id": "Gl-HIAgFZTpW",
        "colab_type": "code",
        "colab": {
          "base_uri": "https://localhost:8080/",
          "height": 444
        },
        "outputId": "fe40021c-232a-48f3-93fa-c2cbd076c0b6"
      },
      "source": [
        "!pip install -qq transformers\n",
        "!gdown --id 1bvhV2HuyYRSO_y2eHV4Nh0gJoWxtzgSX\n",
        "!nvidia-smi"
      ],
      "execution_count": null,
      "outputs": [
        {
          "output_type": "stream",
          "text": [
            "Downloading...\n",
            "From: https://drive.google.com/uc?id=1bvhV2HuyYRSO_y2eHV4Nh0gJoWxtzgSX\n",
            "To: /content/reviews.zip\n",
            "\r0.00B [00:00, ?B/s]\r5.26MB [00:00, 168MB/s]\n",
            "Fri Aug 28 00:35:01 2020       \n",
            "+-----------------------------------------------------------------------------+\n",
            "| NVIDIA-SMI 450.57       Driver Version: 418.67       CUDA Version: 10.1     |\n",
            "|-------------------------------+----------------------+----------------------+\n",
            "| GPU  Name        Persistence-M| Bus-Id        Disp.A | Volatile Uncorr. ECC |\n",
            "| Fan  Temp  Perf  Pwr:Usage/Cap|         Memory-Usage | GPU-Util  Compute M. |\n",
            "|                               |                      |               MIG M. |\n",
            "|===============================+======================+======================|\n",
            "|   0  Tesla K80           Off  | 00000000:00:04.0 Off |                    0 |\n",
            "| N/A   50C    P0    57W / 149W |  11111MiB / 11441MiB |      0%      Default |\n",
            "|                               |                      |                 ERR! |\n",
            "+-------------------------------+----------------------+----------------------+\n",
            "                                                                               \n",
            "+-----------------------------------------------------------------------------+\n",
            "| Processes:                                                                  |\n",
            "|  GPU   GI   CI        PID   Type   Process name                  GPU Memory |\n",
            "|        ID   ID                                                   Usage      |\n",
            "|=============================================================================|\n",
            "|  No running processes found                                                 |\n",
            "+-----------------------------------------------------------------------------+\n"
          ],
          "name": "stdout"
        }
      ]
    },
    {
      "cell_type": "code",
      "metadata": {
        "id": "h6QB1f33aQZD",
        "colab_type": "code",
        "colab": {}
      },
      "source": [
        "import requests\n",
        "import zipfile\n",
        "import os\n",
        "import numpy as np\n",
        "import pandas as pd\n",
        "import torch\n",
        "import matplotlib.pyplot as plt\n",
        "from google.colab import files\n",
        "from collections import defaultdict\n",
        "from sklearn.model_selection import train_test_split\n",
        "from torch import nn, optim\n",
        "from torch.utils.data import Dataset, DataLoader\n",
        "from transformers import BertModel, BertTokenizer, AdamW, get_linear_schedule_with_warmup\n",
        "from sklearn.metrics import classification_report, roc_auc_score, roc_curve\n"
      ],
      "execution_count": null,
      "outputs": []
    },
    {
      "cell_type": "code",
      "metadata": {
        "id": "PmS3Fme3nGoh",
        "colab_type": "code",
        "colab": {}
      },
      "source": [
        "# Seteos de la notebook\n",
        "%matplotlib inline\n",
        "RANDOM_SEED = 42\n",
        "np.random.seed(RANDOM_SEED)\n",
        "torch.manual_seed(RANDOM_SEED)\n",
        "device = torch.device(\"cuda:0\" if torch.cuda.is_available() else \"cpu\")"
      ],
      "execution_count": null,
      "outputs": []
    },
    {
      "cell_type": "markdown",
      "metadata": {
        "id": "d5p3Equ4ZY0F",
        "colab_type": "text"
      },
      "source": [
        "# BETO para Análisis de Sentimiento"
      ]
    },
    {
      "cell_type": "markdown",
      "metadata": {
        "id": "gEf8nHApOu6N",
        "colab_type": "text"
      },
      "source": [
        "En esta notebook se presenta el código para entrenar un modelo de análisis de sentimiento a partir de un modelo BERT (BETO) pre entrenado (transfer learning). La notebook hace uso fuerte de la librería transformers de huggingface y puede adaptarse de manera simple (trivial) a otros problemas de clasificación de textos (cortos)."
      ]
    },
    {
      "cell_type": "markdown",
      "metadata": {
        "id": "cAyKpSzWpCvv",
        "colab_type": "text"
      },
      "source": [
        "## Carga de los datos"
      ]
    },
    {
      "cell_type": "code",
      "metadata": {
        "id": "xDBbBs43ZzMk",
        "colab_type": "code",
        "colab": {}
      },
      "source": [
        "def process_document(doc_name, metadata, document):\n",
        "    \n",
        "    review_id = doc_name.replace(\".txt\", \"\")\n",
        "    \n",
        "    rating = metadata[review_id]\n",
        "\n",
        "    r_class = 1 if rating == \"Malo\" else 0\n",
        "\n",
        "    return {\"review_id\": review_id,\n",
        "            \"rating\": rating,\n",
        "            \"content\": document,\n",
        "            \"sentiment\": r_class}\n",
        "\n",
        "\n",
        "def carga_path(data_path, sent_dict):\n",
        "\n",
        "    comments_data = []\n",
        "    for d in os.listdir(data_path):\n",
        "        with open(data_path + d, encoding=\"utf-8\") as f:\n",
        "            comments_data.append(process_document(d, sent_dict, f.read()))\n",
        "\n",
        "    return pd.DataFrame(comments_data)\n",
        "\n",
        "\n",
        "def carga_datos_reviews():\n",
        "\n",
        "    # Descarga el archivo zip y lo descomprime en el server de Google\n",
        "    z = zipfile.ZipFile(\"reviews.zip\")\n",
        "    z.extractall()\n",
        "\n",
        "    # Carga clases\n",
        "    with open(\"./reviews/clasificacion.txt\", encoding=\"utf-8\") as f:\n",
        "        sent_dic = [e.strip() for e in f.readlines()[1:]]\n",
        "        sent_dic = [e.replace(\"Muy buena\", \"Muy_buena\").split() for e in sent_dic]\n",
        "    \n",
        "    sent_dict = {e[0]:e[1] for e in sent_dic}\n",
        "\n",
        "    # Carga el corpus\n",
        "    reviews_data = carga_path(\"./reviews/corpus/\", sent_dict)\n",
        "\n",
        "    return reviews_data"
      ],
      "execution_count": null,
      "outputs": []
    },
    {
      "cell_type": "code",
      "metadata": {
        "id": "oBgKrxvKbIdf",
        "colab_type": "code",
        "colab": {}
      },
      "source": [
        "train_data = carga_datos_reviews()\n",
        "\n",
        "class_names = ['no_malo', 'malo']\n",
        "\n",
        "train_data, test_data = train_test_split(train_data,\n",
        "                                         test_size=0.1,\n",
        "                                         random_state=RANDOM_SEED)\n",
        "\n",
        "train_data, val_data = train_test_split(train_data,\n",
        "                                        test_size=0.1,\n",
        "                                        random_state=RANDOM_SEED)"
      ],
      "execution_count": null,
      "outputs": []
    },
    {
      "cell_type": "code",
      "metadata": {
        "id": "I2GanIv6jmiS",
        "colab_type": "code",
        "colab": {
          "base_uri": "https://localhost:8080/",
          "height": 194
        },
        "outputId": "533c81c5-9c9f-44f7-f560-421fac74b33b"
      },
      "source": [
        "train_data.head()"
      ],
      "execution_count": null,
      "outputs": [
        {
          "output_type": "execute_result",
          "data": {
            "text/html": [
              "<div>\n",
              "<style scoped>\n",
              "    .dataframe tbody tr th:only-of-type {\n",
              "        vertical-align: middle;\n",
              "    }\n",
              "\n",
              "    .dataframe tbody tr th {\n",
              "        vertical-align: top;\n",
              "    }\n",
              "\n",
              "    .dataframe thead th {\n",
              "        text-align: right;\n",
              "    }\n",
              "</style>\n",
              "<table border=\"1\" class=\"dataframe\">\n",
              "  <thead>\n",
              "    <tr style=\"text-align: right;\">\n",
              "      <th></th>\n",
              "      <th>review_id</th>\n",
              "      <th>rating</th>\n",
              "      <th>content</th>\n",
              "      <th>sentiment</th>\n",
              "    </tr>\n",
              "  </thead>\n",
              "  <tbody>\n",
              "    <tr>\n",
              "      <th>2198</th>\n",
              "      <td>comment_id_106442</td>\n",
              "      <td>Excelente</td>\n",
              "      <td>Visité Pinuccio 4 veces y siempre me fui confo...</td>\n",
              "      <td>0</td>\n",
              "    </tr>\n",
              "    <tr>\n",
              "      <th>8980</th>\n",
              "      <td>comment_id_322904</td>\n",
              "      <td>Muy_buena</td>\n",
              "      <td>Fuimos en el contexto de BAFoodWeek, muy buena...</td>\n",
              "      <td>0</td>\n",
              "    </tr>\n",
              "    <tr>\n",
              "      <th>12932</th>\n",
              "      <td>comment_id_98998</td>\n",
              "      <td>Excelente</td>\n",
              "      <td>Osaka es definitivamente uno de los mejores re...</td>\n",
              "      <td>0</td>\n",
              "    </tr>\n",
              "    <tr>\n",
              "      <th>8662</th>\n",
              "      <td>comment_id_168736</td>\n",
              "      <td>Excelente</td>\n",
              "      <td>tiene una onda filo, pero la materia prima es ...</td>\n",
              "      <td>0</td>\n",
              "    </tr>\n",
              "    <tr>\n",
              "      <th>5261</th>\n",
              "      <td>comment_id_198406</td>\n",
              "      <td>Excelente</td>\n",
              "      <td>muy rico todo , servicio de diez a pesar del m...</td>\n",
              "      <td>0</td>\n",
              "    </tr>\n",
              "  </tbody>\n",
              "</table>\n",
              "</div>"
            ],
            "text/plain": [
              "               review_id  ... sentiment\n",
              "2198   comment_id_106442  ...         0\n",
              "8980   comment_id_322904  ...         0\n",
              "12932   comment_id_98998  ...         0\n",
              "8662   comment_id_168736  ...         0\n",
              "5261   comment_id_198406  ...         0\n",
              "\n",
              "[5 rows x 4 columns]"
            ]
          },
          "metadata": {
            "tags": []
          },
          "execution_count": 27
        }
      ]
    },
    {
      "cell_type": "markdown",
      "metadata": {
        "id": "MkkX_GNFpNRT",
        "colab_type": "text"
      },
      "source": [
        "## Configuración de los data loaders para BETO"
      ]
    },
    {
      "cell_type": "code",
      "metadata": {
        "id": "MlB2fUO8tp9c",
        "colab_type": "code",
        "colab": {}
      },
      "source": [
        "class SentimentDataset(Dataset):\n",
        "\n",
        "    def __init__(self, contents, targets, tokenizer, max_len):\n",
        "        self.contents = contents\n",
        "        self.targets = targets\n",
        "        self.tokenizer = tokenizer\n",
        "        self.max_len = max_len\n",
        "\n",
        "\n",
        "    def __len__(self):\n",
        "        return len(self.contents)\n",
        "\n",
        "\n",
        "    def __getitem__(self, item):\n",
        "        content = str(self.contents[item])\n",
        "        target = self.targets[item]\n",
        "\n",
        "        encoding = self.tokenizer.encode_plus(content,\n",
        "                                              add_special_tokens=True,\n",
        "                                              max_length=self.max_len,\n",
        "                                              return_token_type_ids=False,\n",
        "                                              pad_to_max_length=True,\n",
        "                                              return_attention_mask=True,\n",
        "                                              return_tensors='pt',\n",
        "                                              truncation=True)\n",
        "\n",
        "        return {'content_text': content,\n",
        "                'input_ids': encoding['input_ids'].flatten(),\n",
        "                'attention_mask': encoding['attention_mask'].flatten(),\n",
        "                'targets': torch.tensor(target, dtype=torch.long)}\n",
        "\n",
        "\n",
        "def create_data_loader(df, tokenizer, max_len, batch_size):\n",
        "\n",
        "    ds = SentimentDataset(contents=df.content.to_numpy(),\n",
        "                           targets=df.sentiment.to_numpy(),\n",
        "                           tokenizer=tokenizer,\n",
        "                           max_len=max_len)\n",
        "    \n",
        "    return DataLoader(ds,\n",
        "                      batch_size=batch_size,\n",
        "                      num_workers=4)"
      ],
      "execution_count": null,
      "outputs": []
    },
    {
      "cell_type": "code",
      "metadata": {
        "id": "vSg_YMkJuOBd",
        "colab_type": "code",
        "colab": {}
      },
      "source": [
        "MAX_LEN = 400\n",
        "BATCH_SIZE = 16\n",
        "PRE_TRAINED_MODEL_NAME = \"dccuchile/bert-base-spanish-wwm-uncased\"\n",
        "tokenizer = BertTokenizer.from_pretrained(PRE_TRAINED_MODEL_NAME)\n",
        "\n",
        "train_data_loader = create_data_loader(train_data, tokenizer, MAX_LEN, BATCH_SIZE)\n",
        "val_data_loader = create_data_loader(val_data, tokenizer, MAX_LEN, BATCH_SIZE)\n",
        "test_data_loader = create_data_loader(test_data, tokenizer, MAX_LEN, BATCH_SIZE)"
      ],
      "execution_count": null,
      "outputs": []
    },
    {
      "cell_type": "markdown",
      "metadata": {
        "id": "M0BHnTxW1GLf",
        "colab_type": "text"
      },
      "source": [
        "## Seteo del modelo propuesto (BETO + dropout + fully connected)"
      ]
    },
    {
      "cell_type": "code",
      "metadata": {
        "id": "OTCh6htR1Vfn",
        "colab_type": "code",
        "colab": {}
      },
      "source": [
        "class SentimentClassifier(nn.Module):\n",
        "\n",
        "    def __init__(self, n_classes, freeze = False):\n",
        "    \n",
        "        super(SentimentClassifier, self).__init__()\n",
        "        self.model = BertModel.from_pretrained(PRE_TRAINED_MODEL_NAME)\n",
        "        self.drop = nn.Dropout(p=0.3)\n",
        "        self.out = nn.Linear(self.model.config.hidden_size, n_classes)\n",
        "\n",
        "        if freeze:\n",
        "            for param in self.model.parameters():\n",
        "                param.requires_grad = False\n",
        "\n",
        "\n",
        "    def forward(self, input_ids, attention_mask):\n",
        "\n",
        "        _, pooled_output = self.model(input_ids=input_ids,\n",
        "                                      attention_mask=attention_mask)\n",
        "\n",
        "        output = self.drop(pooled_output)\n",
        "\n",
        "        return self.out(output)"
      ],
      "execution_count": null,
      "outputs": []
    },
    {
      "cell_type": "code",
      "metadata": {
        "id": "kdU1WuyW4h7s",
        "colab_type": "code",
        "colab": {}
      },
      "source": [
        "model = SentimentClassifier(len(class_names), freeze=False)\n",
        "model = model.to(device)"
      ],
      "execution_count": null,
      "outputs": []
    },
    {
      "cell_type": "code",
      "metadata": {
        "id": "A60dBYut8d2N",
        "colab_type": "code",
        "colab": {}
      },
      "source": [
        "EPOCHS = 6\n",
        "optimizer = AdamW(model.parameters(), lr=2e-5, correct_bias=False)\n",
        "total_steps = len(train_data_loader) * EPOCHS\n",
        "scheduler = get_linear_schedule_with_warmup(optimizer,\n",
        "                                            num_warmup_steps=total_steps // 10,\n",
        "                                            num_training_steps=total_steps)\n",
        "loss_fn = nn.CrossEntropyLoss().to(device)"
      ],
      "execution_count": null,
      "outputs": []
    },
    {
      "cell_type": "code",
      "metadata": {
        "id": "gq7TWxkr9-Vj",
        "colab_type": "code",
        "colab": {}
      },
      "source": [
        "def train_epoch(model, data_loader, loss_fn, optimizer, device, \n",
        "                scheduler, n_examples):\n",
        "\n",
        "    model = model.train()\n",
        "\n",
        "    losses = []\n",
        "    correct_predictions = 0\n",
        "  \n",
        "    for d in data_loader:\n",
        "\n",
        "        input_ids = d[\"input_ids\"].to(device)\n",
        "        attention_mask = d[\"attention_mask\"].to(device)\n",
        "        targets = d[\"targets\"].to(device)\n",
        "\n",
        "        outputs = model(input_ids=input_ids,\n",
        "                        attention_mask=attention_mask)\n",
        "\n",
        "        _, preds = torch.max(outputs, dim=1)\n",
        "        loss = loss_fn(outputs, targets)\n",
        "\n",
        "        correct_predictions += torch.sum(preds == targets)\n",
        "        losses.append(loss.item())\n",
        "\n",
        "        loss.backward()\n",
        "        nn.utils.clip_grad_norm_(model.parameters(), max_norm=1.0)\n",
        "        optimizer.step()\n",
        "        scheduler.step()\n",
        "        optimizer.zero_grad()\n",
        "\n",
        "    return correct_predictions.double() / n_examples, np.mean(losses)\n",
        "\n",
        "\n",
        "def eval_model(model, data_loader, loss_fn, device, n_examples):\n",
        "    \n",
        "    model = model.eval()\n",
        "\n",
        "    losses = []\n",
        "    correct_predictions = 0\n",
        "\n",
        "    with torch.no_grad():\n",
        "        for d in data_loader:\n",
        "            input_ids = d[\"input_ids\"].to(device)\n",
        "            attention_mask = d[\"attention_mask\"].to(device)\n",
        "            targets = d[\"targets\"].to(device)\n",
        "\n",
        "            outputs = model(\n",
        "            input_ids=input_ids,\n",
        "            attention_mask=attention_mask\n",
        "            )\n",
        "            _, preds = torch.max(outputs, dim=1)\n",
        "\n",
        "            loss = loss_fn(outputs, targets)\n",
        "\n",
        "            correct_predictions += torch.sum(preds == targets)\n",
        "            losses.append(loss.item())\n",
        "\n",
        "    return correct_predictions.double() / n_examples, np.mean(losses)"
      ],
      "execution_count": null,
      "outputs": []
    },
    {
      "cell_type": "markdown",
      "metadata": {
        "id": "bcfBVp_-pz-b",
        "colab_type": "text"
      },
      "source": [
        "## Entrenamiento"
      ]
    },
    {
      "cell_type": "code",
      "metadata": {
        "id": "aaTHPRhP-wDf",
        "colab_type": "code",
        "colab": {
          "base_uri": "https://localhost:8080/",
          "height": 124
        },
        "outputId": "0176d44c-9ba8-4077-92f4-69ffc59bc9dd"
      },
      "source": [
        "%%time\n",
        "TRAIN_MODEL = False\n",
        "\n",
        "if TRAIN_MODEL:\n",
        "    history = defaultdict(list)\n",
        "    best_accuracy = 0\n",
        "\n",
        "    for epoch in range(EPOCHS):\n",
        "\n",
        "        print(f'Epoch {epoch + 1}/{EPOCHS}')\n",
        "        print('-' * 10)\n",
        "\n",
        "        train_acc, train_loss = train_epoch(model,\n",
        "                                            train_data_loader,\n",
        "                                            loss_fn,\n",
        "                                            optimizer,\n",
        "                                            device,\n",
        "                                            scheduler,\n",
        "                                            len(train_data))\n",
        "\n",
        "        print(f'Train loss {train_loss} accuracy {train_acc}')\n",
        "\n",
        "        val_acc, val_loss = eval_model(model,\n",
        "                                    val_data_loader,\n",
        "                                    loss_fn,\n",
        "                                    device,\n",
        "                                    len(val_data))\n",
        "\n",
        "        print(f'Val   loss {val_loss} accuracy {val_acc}')\n",
        "        print()\n",
        "\n",
        "        history['train_acc'].append(train_acc)\n",
        "        history['train_loss'].append(train_loss)\n",
        "        history['val_acc'].append(val_acc)\n",
        "        history['val_loss'].append(val_loss)\n",
        "\n",
        "        if val_acc > best_accuracy:\n",
        "            torch.save(model.state_dict(), 'best_BETO_model_state.bin')\n",
        "            best_accuracy = val_acc\n",
        "\n",
        "    files.download('best_BETO_model_state.bin') \n",
        "\n",
        "else:\n",
        "\n",
        "    !gdown --id 1XZDrlaIsZ2QNwGzm5Jtj6rWBadKfcUSE\n",
        "    model = SentimentClassifier(len(class_names))\n",
        "    model.load_state_dict(torch.load('best_BETO_model_state.bin'))\n",
        "    model = model.to(device)"
      ],
      "execution_count": null,
      "outputs": [
        {
          "output_type": "stream",
          "text": [
            "Downloading...\n",
            "From: https://drive.google.com/uc?id=1XZDrlaIsZ2QNwGzm5Jtj6rWBadKfcUSE\n",
            "To: /content/best_BETO_model_state.bin\n",
            "439MB [00:02, 189MB/s]\n",
            "CPU times: user 2.72 s, sys: 668 ms, total: 3.39 s\n",
            "Wall time: 10.1 s\n"
          ],
          "name": "stdout"
        }
      ]
    },
    {
      "cell_type": "markdown",
      "metadata": {
        "id": "DwRs1EDip3Js",
        "colab_type": "text"
      },
      "source": [
        "## Evaluación del modelo entrenado"
      ]
    },
    {
      "cell_type": "code",
      "metadata": {
        "id": "OQwYpdMp3uMm",
        "colab_type": "code",
        "colab": {}
      },
      "source": [
        "def get_predictions(model, data_loader):\n",
        "\n",
        "    model = model.eval()\n",
        "\n",
        "    content_texts = []\n",
        "    predictions = []\n",
        "    prediction_probs = []\n",
        "    real_values = []\n",
        "\n",
        "    with torch.no_grad():\n",
        "        for d in data_loader:\n",
        "\n",
        "            texts = d[\"content_text\"]\n",
        "            input_ids = d[\"input_ids\"].to(device)\n",
        "            attention_mask = d[\"attention_mask\"].to(device)\n",
        "            targets = d[\"targets\"].to(device)\n",
        "\n",
        "            outputs = model(\n",
        "            input_ids=input_ids,\n",
        "            attention_mask=attention_mask\n",
        "            )\n",
        "            _, preds = torch.max(outputs, dim=1)\n",
        "\n",
        "            probs = nn.functional.softmax(outputs, dim=1)\n",
        "\n",
        "            content_texts.extend(texts)\n",
        "            predictions.extend(preds)\n",
        "            prediction_probs.extend(probs)\n",
        "            real_values.extend(targets)\n",
        "\n",
        "    predictions = torch.stack(predictions).cpu()\n",
        "    prediction_probs = torch.stack(prediction_probs).cpu()\n",
        "    real_values = torch.stack(real_values).cpu()\n",
        "    return content_texts, predictions, prediction_probs, real_values"
      ],
      "execution_count": null,
      "outputs": []
    },
    {
      "cell_type": "code",
      "metadata": {
        "id": "gyry_ibV6up1",
        "colab_type": "code",
        "colab": {}
      },
      "source": [
        "y_content_texts, y_pred, y_pred_probs, y_test = get_predictions(model,\n",
        "                                                               test_data_loader)"
      ],
      "execution_count": null,
      "outputs": []
    },
    {
      "cell_type": "code",
      "metadata": {
        "id": "onanKL7l6x50",
        "colab_type": "code",
        "colab": {
          "base_uri": "https://localhost:8080/"
        },
        "outputId": "f0a2bc01-1b17-4ffa-e345-985bf163783a"
      },
      "source": [
        "print(classification_report(y_test, y_pred, target_names=class_names))\n",
        "test_roc = roc_auc_score(y_test, y_pred_probs[:,1].numpy())\n",
        "print(test_roc)"
      ],
      "execution_count": null,
      "outputs": [
        {
          "output_type": "stream",
          "text": [
            "              precision    recall  f1-score   support\n",
            "\n",
            "     no_malo       0.96      0.97      0.97      1198\n",
            "        malo       0.70      0.61      0.65       120\n",
            "\n",
            "    accuracy                           0.94      1318\n",
            "   macro avg       0.83      0.79      0.81      1318\n",
            "weighted avg       0.94      0.94      0.94      1318\n",
            "\n",
            "0.9637938230383973\n"
          ],
          "name": "stdout"
        }
      ]
    },
    {
      "cell_type": "code",
      "metadata": {
        "id": "a2XQG-4tDSqe",
        "colab_type": "code",
        "colab": {
          "base_uri": "https://localhost:8080/"
        },
        "outputId": "d0f42270-7062-4990-e441-065fe8487333"
      },
      "source": [
        "fpr, tpr, threshold = roc_curve(y_test, y_pred_probs[:,1].numpy())\n",
        "plt.title('Receiver Operating Characteristic')\n",
        "plt.plot(fpr, tpr, 'b', label = 'AUC = %0.2f' % test_roc)\n",
        "plt.legend(loc = 'lower right')\n",
        "plt.plot([0, 1], [0, 1],'r--')\n",
        "plt.xlim([0, 1])\n",
        "plt.ylim([0, 1])\n",
        "plt.ylabel('True Positive Rate')\n",
        "plt.xlabel('False Positive Rate')\n",
        "plt.show()"
      ],
      "execution_count": null,
      "outputs": [
        {
          "output_type": "display_data",
          "data": {
            "image/png": "[encoded data removed]",
            "text/plain": [
              "<Figure size 432x288 with 1 Axes>"
            ]
          },
          "metadata": {
            "tags": [],
            "needs_background": "light"
          }
        }
      ]
    }
  ]
}