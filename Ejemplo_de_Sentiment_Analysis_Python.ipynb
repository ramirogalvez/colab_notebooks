{
  "nbformat": 4,
  "nbformat_minor": 0,
  "metadata": {
    "colab": {
      "name": "Ejemplo_de_Sentiment_Analysis_Python.ipynb",
      "provenance": [],
      "collapsed_sections": [],
      "include_colab_link": true
    },
    "kernelspec": {
      "name": "python3",
      "display_name": "Python 3"
    }
  },
  "cells": [
    {
      "cell_type": "markdown",
      "metadata": {
        "id": "view-in-github",
        "colab_type": "text"
      },
      "source": [
        "<a href=\"https://colab.research.google.com/github/ramirogalvez/colab_notebooks/blob/master/Ejemplo_de_Sentiment_Analysis_Python.ipynb\" target=\"_parent\"><img src=\"https://colab.research.google.com/assets/colab-badge.svg\" alt=\"Open In Colab\"/></a>"
      ]
    },
    {
      "cell_type": "code",
      "metadata": {
        "id": "fIq1jqnU_VHy",
        "colab_type": "code",
        "colab": {}
      },
      "source": [
        "import requests\n",
        "import zipfile\n",
        "import io\n",
        "import re\n",
        "import pandas as pd\n",
        "from collections import Counter\n",
        "from sklearn.ensemble import RandomForestClassifier"
      ],
      "execution_count": null,
      "outputs": []
    },
    {
      "cell_type": "markdown",
      "metadata": {
        "id": "nKAyYEbb065l",
        "colab_type": "text"
      },
      "source": [
        "# ¿Qué tipo de análisis se pueden hacer programando?"
      ]
    },
    {
      "cell_type": "markdown",
      "metadata": {
        "id": "F_ajvGxNy4ao",
        "colab_type": "text"
      },
      "source": [
        "El objetivo de esta notebook es mostrarles un ejemplo del tipo de análisis avanzado que puede hacerse tras aprender a programar. Concretamente, en esta notebook se aborda un problema que ya vimos en clases: **de analizar sentimiento en textos**.\n",
        "\n",
        "Para abordar este problema usaremos *Python*, un lenguage de programación de alto nivel ampliamente usado en *analytics*. Es el lenguaje que se ve en MAAN II. Un lenguage alternativo (aunque principalmente orientado a Data Science) es *R*, que se ve en Intro a Data Science. Ambas son materias del **campo menor en teconología y ciencias de datos.**\n",
        "\n",
        "Antes de pasar a trabajar con datos, veamos un concepto fundamental de programación que usaremos a lo largo de esta notebook: la declaración de funciones."
      ]
    },
    {
      "cell_type": "markdown",
      "metadata": {
        "id": "jDJVB9frwG8w",
        "colab_type": "text"
      },
      "source": [
        "## Funciones"
      ]
    },
    {
      "cell_type": "markdown",
      "metadata": {
        "id": "u4MQ2A1Q0Tpf",
        "colab_type": "text"
      },
      "source": [
        "En las próximas celdas de esta notebook veremos cómo se declaran y usan funciones en *Python*. El concepto de funciones es muy similar al de macros tal cual las venimos usando en MAAN I (con la diferencia de que pueden tomar parámetros de entrada y pueden devolver valores como output).\n",
        "\n",
        "A continuación, declararemos (crearemos) una función llamada \"*funcion_de_prueba*\" que toma como argumentos dos números, realiza una operación con ellos, y devuelve el resultado de dicha operación."
      ]
    },
    {
      "cell_type": "code",
      "metadata": {
        "id": "fEMYRsxN2XMC",
        "colab_type": "code",
        "colab": {}
      },
      "source": [
        "def funcion_de_prueba(num1, num2):\n",
        "    # Primera función de prueba\n",
        "    resultado_intermedio = min([num1, num2])\n",
        "    return 3 * resultado_intermedio"
      ],
      "execution_count": 31,
      "outputs": []
    },
    {
      "cell_type": "markdown",
      "metadata": {
        "id": "QloEOp963Ktb",
        "colab_type": "text"
      },
      "source": [
        "Una vez declarada la función, uno puede la puede usar sin problemas.\n",
        "Veamos ejemplos:"
      ]
    },
    {
      "cell_type": "code",
      "metadata": {
        "id": "4-TFwMR23gg6",
        "colab_type": "code",
        "colab": {
          "base_uri": "https://localhost:8080/",
          "height": 34
        },
        "outputId": "d755803c-6412-4f6c-8e96-64a7ca332756"
      },
      "source": [
        "# Primer ejemplo\n",
        "print(funcion_de_prueba(1, 2))"
      ],
      "execution_count": 32,
      "outputs": [
        {
          "output_type": "stream",
          "text": [
            "3\n"
          ],
          "name": "stdout"
        }
      ]
    },
    {
      "cell_type": "code",
      "metadata": {
        "id": "qDAwB2oxdTsX",
        "colab_type": "code",
        "colab": {
          "base_uri": "https://localhost:8080/",
          "height": 34
        },
        "outputId": "72d9397e-6297-4165-f7d1-a21a6e92f61e"
      },
      "source": [
        "# Segundo ejemplo\n",
        "print(funcion_de_prueba(100, 2))"
      ],
      "execution_count": 33,
      "outputs": [
        {
          "output_type": "stream",
          "text": [
            "6\n"
          ],
          "name": "stdout"
        }
      ]
    },
    {
      "cell_type": "code",
      "metadata": {
        "id": "WAdyKkz_dTaF",
        "colab_type": "code",
        "colab": {
          "base_uri": "https://localhost:8080/",
          "height": 34
        },
        "outputId": "6be0722c-ef42-4d3f-b5a9-368f17b17efe"
      },
      "source": [
        "# Tercer ejemplo\n",
        "print(funcion_de_prueba(4, 4))"
      ],
      "execution_count": 34,
      "outputs": [
        {
          "output_type": "stream",
          "text": [
            "12\n"
          ],
          "name": "stdout"
        }
      ]
    },
    {
      "cell_type": "markdown",
      "metadata": {
        "id": "XwlfclFV3suc",
        "colab_type": "text"
      },
      "source": [
        "En lo que resta de esta notebook usaremos funciones ya implementadas por nosotros o por gente que escribió librerías y las hizo públicas para que terceros las usen (igual a cuando en el editor de VBA debiamos activábamos funciones que nos permitían interactuar con *solver*). También usaremos **estructuras de datos** avanzadas (generalmente dentro de las funciones).\n",
        "\n",
        "**IMPORTANTE**: el fin de esta clase **NO** es que ustedes dominen todos estos conceptos, sino que vean que sepan que existen y que, quienes estén interesados, sepan que pueden seguir aprendiéndolos dentro de la carrera de Economía Empresarial de UTDT."
      ]
    },
    {
      "cell_type": "markdown",
      "metadata": {
        "id": "04brVX3j4968",
        "colab_type": "text"
      },
      "source": [
        "## Problema al que nos vamos a enfrentar"
      ]
    },
    {
      "cell_type": "markdown",
      "metadata": {
        "id": "epDAajY_5oDF",
        "colab_type": "text"
      },
      "source": [
        "Nuestro objetivo es armar un sistema que lea un review/reseña de restaurantes y nos indique si la persona que escribió el review está hablando mal o no de la comida que en el restaurante se vende (noten que este problema pueden aplicarse a otros dominios, e.g.: si se habla bien o mal de un político en Twitter, si se está haciendo un buen o mal review de un producto en Mercado Libre, etc.).\n",
        "\n",
        "Ya vimos en las clases iniciales de MAAN que esto puede hacerse con diccionarios de palabras (aunque también vimos que este enfoque es muy limitado). Ahora veremos cómo resolver el problema utilizando técnicas de inteligencia artificial! (concretamente, de aprendizaje automático/estadístico)."
      ]
    },
    {
      "cell_type": "markdown",
      "metadata": {
        "id": "HN76_16Ie2uO",
        "colab_type": "text"
      },
      "source": [
        "Supongamos que tenemos \"datos\" como los siguientes:\n"
      ]
    },
    {
      "cell_type": "markdown",
      "metadata": {
        "id": "e5YL2Iuv9cci",
        "colab_type": "text"
      },
      "source": [
        "![texto alternativo](https://drive.google.com/uc?id=1cZLBHwMJa34gMYjQbRve4qqwcb7xfkwN)"
      ]
    },
    {
      "cell_type": "markdown",
      "metadata": {
        "id": "LecmYGlqe-ls",
        "colab_type": "text"
      },
      "source": [
        "Lo que nosotros haremos serán intentar aprender qué patrones (palabras en este caso) tienen los reviews que hablan mal de las comidas y qué patrones tienen los que no hablan mal.\n",
        "\n",
        "En vez de buscar esto de manera manual, utilizaremos un modelo de aprendizaje automático para aprender estos patrones a partir de los datos. Concretamente utilizaremos un modelo llamado **Random Forest**."
      ]
    },
    {
      "cell_type": "markdown",
      "metadata": {
        "id": "fV1nIjVowKR8",
        "colab_type": "text"
      },
      "source": [
        "## Datos que utilizaremos"
      ]
    },
    {
      "cell_type": "markdown",
      "metadata": {
        "id": "LypliiLn94zx",
        "colab_type": "text"
      },
      "source": [
        "A continución trabajaremos con datos que se obtuvieron de uno de los portales más populares de reseñas de restaurantes del país. Generalmente, para obtener de manera masiva datos de este estilo se hace uso de *scrapers* (programas que tienen como objetivo recolectar datos de internet --- que también se pueden programar usando *Python* con relativa facilidad ---).\n",
        "\n",
        "La siguiente función carga 13174 reviews que previamente fueron recolectados y que están guardado en un archivo *.zip* en drive."
      ]
    },
    {
      "cell_type": "code",
      "metadata": {
        "id": "by07qwww4KMN",
        "colab_type": "code",
        "colab": {}
      },
      "source": [
        "def carga_datos_reviews(filepath):\n",
        "\n",
        "    # Descarga el archivo zip y lo descomprime en el server de Google\n",
        "    r = requests.get(filepath, stream=True)\n",
        "    z = zipfile.ZipFile(io.BytesIO(r.content))\n",
        "    z.extractall()\n",
        "\n",
        "    # Carga los datos referidos al puntaje asignado\n",
        "    clase = pd.read_csv(\"./reviews/clasificacion.txt\", sep = \"\\t\")\n",
        "\n",
        "    # Guarda el texto y el puntaje clase de cada review en una lista\n",
        "    review_data = []\n",
        "    for i, r in clase.iterrows():\n",
        "        fpath = \"./reviews/corpus/\" + r.id_comentario + \".txt\"\n",
        "        with open(fpath) as f:\n",
        "            review = f.read()\n",
        "        review_data.append({\"clase\": r.clase_comentario,\n",
        "                            \"review\": review})\n",
        "\n",
        "    return review_data"
      ],
      "execution_count": 35,
      "outputs": []
    },
    {
      "cell_type": "markdown",
      "metadata": {
        "id": "0oPAGivSEiyy",
        "colab_type": "text"
      },
      "source": [
        "A continuación ejecutamos la función y cargamos los datos en memoria RAM (del server de Google)"
      ]
    },
    {
      "cell_type": "code",
      "metadata": {
        "id": "tYBJBe2GAE6e",
        "colab_type": "code",
        "colab": {}
      },
      "source": [
        "url = \"https://drive.google.com/uc?id=1qR1hBSvzHJUeTumyhqF3CnhbzkCGPLhR\"\n",
        "reviews_data = carga_datos_reviews(url)"
      ],
      "execution_count": 36,
      "outputs": []
    },
    {
      "cell_type": "markdown",
      "metadata": {
        "id": "EJtmZn6WErCX",
        "colab_type": "text"
      },
      "source": [
        "Exploremos un poco los datos."
      ]
    },
    {
      "cell_type": "code",
      "metadata": {
        "id": "MtAPEViXAPRK",
        "colab_type": "code",
        "colab": {
          "base_uri": "https://localhost:8080/",
          "height": 34
        },
        "outputId": "d82a2205-c9be-4199-ea4d-d03091f09dd3"
      },
      "source": [
        "# Cantidad de reviews\n",
        "print(len(reviews_data))"
      ],
      "execution_count": null,
      "outputs": [
        {
          "output_type": "stream",
          "text": [
            "13174\n"
          ],
          "name": "stdout"
        }
      ]
    },
    {
      "cell_type": "code",
      "metadata": {
        "id": "8KPS_3CzFb8C",
        "colab_type": "code",
        "colab": {
          "base_uri": "https://localhost:8080/",
          "height": 54
        },
        "outputId": "a9dcfcbe-f270-4e95-fed1-74c26eb761e4"
      },
      "source": [
        "# Imprimamos la review en la posición 10\n",
        "print(reviews_data[10])"
      ],
      "execution_count": 37,
      "outputs": [
        {
          "output_type": "stream",
          "text": [
            "{'clase': 'Excelente', 'review': 'Muy lindo lugar, buena ambientacion, mesas bien separadas, para destacar la atencion de todo el personal. muy amables y atentos a cualquier requerimiento y por sobre todo excelentes las pastas'}\n"
          ],
          "name": "stdout"
        }
      ]
    },
    {
      "cell_type": "code",
      "metadata": {
        "id": "0_iLgy6JFi6P",
        "colab_type": "code",
        "colab": {
          "base_uri": "https://localhost:8080/",
          "height": 34
        },
        "outputId": "dad4d627-6cd9-4695-88e3-4477ef7188b4"
      },
      "source": [
        "# Imprimamos el puntaje asignado al review en la posición 10\n",
        "print(reviews_data[10][\"clase\"])"
      ],
      "execution_count": 38,
      "outputs": [
        {
          "output_type": "stream",
          "text": [
            "Excelente\n"
          ],
          "name": "stdout"
        }
      ]
    },
    {
      "cell_type": "code",
      "metadata": {
        "id": "vUpxJ6l6FbqR",
        "colab_type": "code",
        "colab": {
          "base_uri": "https://localhost:8080/",
          "height": 54
        },
        "outputId": "c02c31b3-cdbf-4e17-da54-06481cb41ef1"
      },
      "source": [
        "# Imprimamos el texto escrito del review en la posición 10\n",
        "print(reviews_data[10][\"review\"])"
      ],
      "execution_count": 39,
      "outputs": [
        {
          "output_type": "stream",
          "text": [
            "Muy lindo lugar, buena ambientacion, mesas bien separadas, para destacar la atencion de todo el personal. muy amables y atentos a cualquier requerimiento y por sobre todo excelentes las pastas\n"
          ],
          "name": "stdout"
        }
      ]
    },
    {
      "cell_type": "markdown",
      "metadata": {
        "id": "Zkmr8a0vwPV7",
        "colab_type": "text"
      },
      "source": [
        "## Procesamiento de los datos"
      ]
    },
    {
      "cell_type": "markdown",
      "metadata": {
        "id": "XZgujkCjFyCB",
        "colab_type": "text"
      },
      "source": [
        "Ahora nos enfocaremos en ver cómo podemos procesar los textos de cada review para que sea \"simple\" para una computadora aprender patrones a partir de los mismos (esto es un área gigante de estudio y existe toda una disciplina que se enfoca especialmente en estos temas, la misma se llama *procesamiento del lenguaje natural*).\n",
        "\n",
        "### Bags-of-words model (teoría)\n",
        "\n",
        "Para una computadora es difícil trabajar con el texto tal cuál nosotros leemos (por qué aun no tienen la capacidad de **entender** qué es lo que hay escrito), pero le resulta muy simple trabajar con otras estructuras que conseeven patrones de los textos.\n",
        "\n",
        "El camino que ahora seguiremos será procesar los textos de cada reviews manera que conserven información relativa a qué escribió cada persona, pero que también permita a una computadora procesarlos de manera simple. Puntualmente, lo que haremos será representar los reviews/documentos de una manera análoga a como se muestra abajo (Fuente: Jurafsky & Matrtin, 2000)."
      ]
    },
    {
      "cell_type": "markdown",
      "metadata": {
        "id": "khdl4VNmpvNg",
        "colab_type": "text"
      },
      "source": [
        "![texto alternativo](https://drive.google.com/uc?id=1XOwP1TlFMcLRTf_XNX6H6PwFyrkfnSEV)\n"
      ]
    },
    {
      "cell_type": "markdown",
      "metadata": {
        "id": "qIDaE_HsqHxs",
        "colab_type": "text"
      },
      "source": [
        "A esta matriz se la conoce como *term-document matrix*. Lo que hace es simplemente contar cuántas veces aparece cada palabra en cada documento (en el caso de la figura, obras de Shakespeare, en el nuestro serán reviews). Noten que la matriz tendrá tantas filas como palabras distintas haya en los documentos y tantas columnas como documentos haya.\n",
        "\n",
        "Nosotros usaremos la traspuesta de esta matriz, conocida como *document-term matrix* (para mantener esa idea con la que venimos trabajando desde el comienzo de MAAN de que cada fila es una observación y cada columna hace referencia a mediciones hechas a cada observación)."
      ]
    },
    {
      "cell_type": "markdown",
      "metadata": {
        "id": "Nvn3jnyxy8X1",
        "colab_type": "text"
      },
      "source": [
        "### Bags-of-words model (implementación)"
      ]
    },
    {
      "cell_type": "markdown",
      "metadata": {
        "id": "bfQ5jLEfHeJC",
        "colab_type": "text"
      },
      "source": [
        "A continuación se presenta una función que toma como input los reviews cargados en memoría y devuelve dos objetos:\n",
        "\n",
        "1.   Una matriz (a la que internamente en la función llamamos X) en la cual cada fila representa un review, cada columna una palabra, y cada valor representa las apariciones de cada palabra en cada documento.\n",
        "2.   Un vector (en realidad una \"lista\" a la que internamente en la función llamamos y) que indica para cada review si no fue malo (y=1) o si sí lo fue (y=0).\n",
        "\n",
        "A su vez, considera dos variantes sobre el modelo tradicional de bag-of-words:\n",
        "\n",
        "\n",
        "1.   Sólo conserva columnas para aquellas palabras que aparecen al menos *min_f* veces en los reviews (en donde *min_f* es un parámetro que se puede modificar).\n",
        "2.   Los valores internos están expresados en terminos relativos relativos a la suma de cada fila. De modo que en un review dado un valor igual a 0.1 para la palabra *rico* (o la que fuera) indica que en ese review el 10% de las palabras escritas es *rico*.\n",
        "\n"
      ]
    },
    {
      "cell_type": "code",
      "metadata": {
        "id": "3bBhxwebBlQL",
        "colab_type": "code",
        "colab": {}
      },
      "source": [
        "def to_bag_of_words(reviews_data, min_f):\n",
        "\n",
        "    # Expresión regular para tokenizar\n",
        "    regex = re.compile(\"\\w+\")\n",
        "\n",
        "    word_counter = {}\n",
        "    X_tmp = []\n",
        "    review = []\n",
        "\n",
        "    # Para cada review cuanto cuántas veces aparece cada palabra\n",
        "    for r in reviews_data:\n",
        "        tokens = regex.findall(r[\"review\"].lower())\n",
        "        for t in tokens:\n",
        "            word_counter[t] = word_counter.get(t, 0) + 1\n",
        "        X_tmp.append(dict(Counter(tokens)))\n",
        "        review.append(int(r[\"clase\"] != \"Malo\"))  # Aquí armo el vector y\n",
        "\n",
        "    # Identifico las palabras que aparecen al menos min_f veces\n",
        "    freq_tokens = set([e for e in word_counter if word_counter[e] >= min_f])\n",
        "\n",
        "    # Armo la matriz de bad-of-words con las modificaciones mencionadas\n",
        "    X = []\n",
        "    while X_tmp:\n",
        "        r = X_tmp.pop(0)\n",
        "        r = {e:r[e] for e in r if e in freq_tokens}\n",
        "        freq_tmp = sum(r.values())\n",
        "        X.append({t:(r[t]/freq_tmp) for t in r})\n",
        "        \n",
        "    X = pd.DataFrame(X, columns=freq_tokens).fillna(0.0)\n",
        "    y = review\n",
        "\n",
        "    return X, y\n"
      ],
      "execution_count": 40,
      "outputs": []
    },
    {
      "cell_type": "markdown",
      "metadata": {
        "id": "i5Q_yzE9y91e",
        "colab_type": "text"
      },
      "source": [
        "Ahora usemos esta función con los ya cargados."
      ]
    },
    {
      "cell_type": "code",
      "metadata": {
        "id": "l-2d2QjfsAEM",
        "colab_type": "code",
        "colab": {}
      },
      "source": [
        "X, y = to_bag_of_words(reviews_data, 5)"
      ],
      "execution_count": 41,
      "outputs": []
    },
    {
      "cell_type": "markdown",
      "metadata": {
        "id": "GNlH_-QrzeRt",
        "colab_type": "text"
      },
      "source": [
        "Exploremos un poco X e y:"
      ]
    },
    {
      "cell_type": "code",
      "metadata": {
        "id": "LXY1L1N1JHlh",
        "colab_type": "code",
        "colab": {
          "base_uri": "https://localhost:8080/",
          "height": 34
        },
        "outputId": "db72da2f-6c3d-440c-e851-81accba2dbeb"
      },
      "source": [
        "# Veamos los primeros 5 valores de y\n",
        "print(y[:20])"
      ],
      "execution_count": 42,
      "outputs": [
        {
          "output_type": "stream",
          "text": [
            "[1, 1, 1, 1, 1, 1, 1, 1, 1, 1, 1, 1, 1, 1, 1, 0, 0, 1, 1, 1]\n"
          ],
          "name": "stdout"
        }
      ]
    },
    {
      "cell_type": "code",
      "metadata": {
        "id": "b2OiGptfmA-b",
        "colab_type": "code",
        "colab": {
          "base_uri": "https://localhost:8080/",
          "height": 34
        },
        "outputId": "a5037523-926d-4752-8f4d-3ad7c8d3feff"
      },
      "source": [
        "# Veo qué porcentaje de los reviews no fueron malos\n",
        "print(sum(y)/len(y))"
      ],
      "execution_count": 43,
      "outputs": [
        {
          "output_type": "stream",
          "text": [
            "0.9045088811294975\n"
          ],
          "name": "stdout"
        }
      ]
    },
    {
      "cell_type": "code",
      "metadata": {
        "id": "8oHsKJEzmArN",
        "colab_type": "code",
        "colab": {
          "base_uri": "https://localhost:8080/",
          "height": 252
        },
        "outputId": "286e0f55-1654-4eb1-e0f1-33797c661b75"
      },
      "source": [
        "# Veo las primeras 5 filas de la matrix X\n",
        "X.head()"
      ],
      "execution_count": 45,
      "outputs": [
        {
          "output_type": "execute_result",
          "data": {
            "text/html": [
              "<div>\n",
              "<style scoped>\n",
              "    .dataframe tbody tr th:only-of-type {\n",
              "        vertical-align: middle;\n",
              "    }\n",
              "\n",
              "    .dataframe tbody tr th {\n",
              "        vertical-align: top;\n",
              "    }\n",
              "\n",
              "    .dataframe thead th {\n",
              "        text-align: right;\n",
              "    }\n",
              "</style>\n",
              "<table border=\"1\" class=\"dataframe\">\n",
              "  <thead>\n",
              "    <tr style=\"text-align: right;\">\n",
              "      <th></th>\n",
              "      <th>importa</th>\n",
              "      <th>bruschettas</th>\n",
              "      <th>parar</th>\n",
              "      <th>mediocre</th>\n",
              "      <th>presentar</th>\n",
              "      <th>otsumami</th>\n",
              "      <th>pasaron</th>\n",
              "      <th>tener</th>\n",
              "      <th>ampliamente</th>\n",
              "      <th>escabeche</th>\n",
              "      <th>salón</th>\n",
              "      <th>cambiamos</th>\n",
              "      <th>movimiento</th>\n",
              "      <th>mozzarella</th>\n",
              "      <th>litros</th>\n",
              "      <th>tuvo</th>\n",
              "      <th>calida</th>\n",
              "      <th>prestigio</th>\n",
              "      <th>amor</th>\n",
              "      <th>velocidad</th>\n",
              "      <th>flojos</th>\n",
              "      <th>podian</th>\n",
              "      <th>muito</th>\n",
              "      <th>ha</th>\n",
              "      <th>fritura</th>\n",
              "      <th>sambayon</th>\n",
              "      <th>encima</th>\n",
              "      <th>tomamos</th>\n",
              "      <th>juegos</th>\n",
              "      <th>porteño</th>\n",
              "      <th>explicaron</th>\n",
              "      <th>llenisimo</th>\n",
              "      <th>habituales</th>\n",
              "      <th>10</th>\n",
              "      <th>bocados</th>\n",
              "      <th>pocos</th>\n",
              "      <th>pasos</th>\n",
              "      <th>ocupado</th>\n",
              "      <th>mejorarlo</th>\n",
              "      <th>combo</th>\n",
              "      <th>...</th>\n",
              "      <th>estado</th>\n",
              "      <th>cita</th>\n",
              "      <th>explicación</th>\n",
              "      <th>linea</th>\n",
              "      <th>chorizo</th>\n",
              "      <th>ricos</th>\n",
              "      <th>hagan</th>\n",
              "      <th>entera</th>\n",
              "      <th>probando</th>\n",
              "      <th>saludos</th>\n",
              "      <th>hs</th>\n",
              "      <th>alcaparras</th>\n",
              "      <th>amigo</th>\n",
              "      <th>suculenta</th>\n",
              "      <th>demoró</th>\n",
              "      <th>parecio</th>\n",
              "      <th>deben</th>\n",
              "      <th>voluntad</th>\n",
              "      <th>re</th>\n",
              "      <th>impresentables</th>\n",
              "      <th>mesitas</th>\n",
              "      <th>considerando</th>\n",
              "      <th>verdaderos</th>\n",
              "      <th>pendientes</th>\n",
              "      <th>valio</th>\n",
              "      <th>olores</th>\n",
              "      <th>viniendo</th>\n",
              "      <th>vinagre</th>\n",
              "      <th>venden</th>\n",
              "      <th>incomodo</th>\n",
              "      <th>acompañados</th>\n",
              "      <th>grosero</th>\n",
              "      <th>lujos</th>\n",
              "      <th>impecable</th>\n",
              "      <th>brocoli</th>\n",
              "      <th>da</th>\n",
              "      <th>facturas</th>\n",
              "      <th>33</th>\n",
              "      <th>infernal</th>\n",
              "      <th>superlativa</th>\n",
              "    </tr>\n",
              "  </thead>\n",
              "  <tbody>\n",
              "    <tr>\n",
              "      <th>0</th>\n",
              "      <td>0.0</td>\n",
              "      <td>0.0</td>\n",
              "      <td>0.0</td>\n",
              "      <td>0.0</td>\n",
              "      <td>0.0</td>\n",
              "      <td>0.0</td>\n",
              "      <td>0.0</td>\n",
              "      <td>0.0</td>\n",
              "      <td>0.005988</td>\n",
              "      <td>0.0</td>\n",
              "      <td>0.0</td>\n",
              "      <td>0.0</td>\n",
              "      <td>0.0</td>\n",
              "      <td>0.0</td>\n",
              "      <td>0.0</td>\n",
              "      <td>0.0</td>\n",
              "      <td>0.0</td>\n",
              "      <td>0.0</td>\n",
              "      <td>0.0</td>\n",
              "      <td>0.0</td>\n",
              "      <td>0.0</td>\n",
              "      <td>0.0</td>\n",
              "      <td>0.0</td>\n",
              "      <td>0.0</td>\n",
              "      <td>0.0</td>\n",
              "      <td>0.0</td>\n",
              "      <td>0.0</td>\n",
              "      <td>0.005988</td>\n",
              "      <td>0.0</td>\n",
              "      <td>0.0</td>\n",
              "      <td>0.0</td>\n",
              "      <td>0.0</td>\n",
              "      <td>0.0</td>\n",
              "      <td>0.005988</td>\n",
              "      <td>0.0</td>\n",
              "      <td>0.0</td>\n",
              "      <td>0.0</td>\n",
              "      <td>0.0</td>\n",
              "      <td>0.0</td>\n",
              "      <td>0.0</td>\n",
              "      <td>...</td>\n",
              "      <td>0.000000</td>\n",
              "      <td>0.0</td>\n",
              "      <td>0.0</td>\n",
              "      <td>0.0</td>\n",
              "      <td>0.0</td>\n",
              "      <td>0.0</td>\n",
              "      <td>0.0</td>\n",
              "      <td>0.0</td>\n",
              "      <td>0.0</td>\n",
              "      <td>0.0</td>\n",
              "      <td>0.0</td>\n",
              "      <td>0.0</td>\n",
              "      <td>0.0</td>\n",
              "      <td>0.0</td>\n",
              "      <td>0.0</td>\n",
              "      <td>0.0</td>\n",
              "      <td>0.0</td>\n",
              "      <td>0.0</td>\n",
              "      <td>0.0</td>\n",
              "      <td>0.0</td>\n",
              "      <td>0.0</td>\n",
              "      <td>0.0</td>\n",
              "      <td>0.0</td>\n",
              "      <td>0.0</td>\n",
              "      <td>0.0</td>\n",
              "      <td>0.0</td>\n",
              "      <td>0.0</td>\n",
              "      <td>0.0</td>\n",
              "      <td>0.0</td>\n",
              "      <td>0.0</td>\n",
              "      <td>0.0</td>\n",
              "      <td>0.0</td>\n",
              "      <td>0.0</td>\n",
              "      <td>0.005988</td>\n",
              "      <td>0.0</td>\n",
              "      <td>0.0</td>\n",
              "      <td>0.0</td>\n",
              "      <td>0.0</td>\n",
              "      <td>0.0</td>\n",
              "      <td>0.0</td>\n",
              "    </tr>\n",
              "    <tr>\n",
              "      <th>1</th>\n",
              "      <td>0.0</td>\n",
              "      <td>0.0</td>\n",
              "      <td>0.0</td>\n",
              "      <td>0.0</td>\n",
              "      <td>0.0</td>\n",
              "      <td>0.0</td>\n",
              "      <td>0.0</td>\n",
              "      <td>0.0</td>\n",
              "      <td>0.000000</td>\n",
              "      <td>0.0</td>\n",
              "      <td>0.0</td>\n",
              "      <td>0.0</td>\n",
              "      <td>0.0</td>\n",
              "      <td>0.0</td>\n",
              "      <td>0.0</td>\n",
              "      <td>0.0</td>\n",
              "      <td>0.0</td>\n",
              "      <td>0.0</td>\n",
              "      <td>0.0</td>\n",
              "      <td>0.0</td>\n",
              "      <td>0.0</td>\n",
              "      <td>0.0</td>\n",
              "      <td>0.0</td>\n",
              "      <td>0.0</td>\n",
              "      <td>0.0</td>\n",
              "      <td>0.0</td>\n",
              "      <td>0.0</td>\n",
              "      <td>0.000000</td>\n",
              "      <td>0.0</td>\n",
              "      <td>0.0</td>\n",
              "      <td>0.0</td>\n",
              "      <td>0.0</td>\n",
              "      <td>0.0</td>\n",
              "      <td>0.000000</td>\n",
              "      <td>0.0</td>\n",
              "      <td>0.0</td>\n",
              "      <td>0.0</td>\n",
              "      <td>0.0</td>\n",
              "      <td>0.0</td>\n",
              "      <td>0.0</td>\n",
              "      <td>...</td>\n",
              "      <td>0.025641</td>\n",
              "      <td>0.0</td>\n",
              "      <td>0.0</td>\n",
              "      <td>0.0</td>\n",
              "      <td>0.0</td>\n",
              "      <td>0.0</td>\n",
              "      <td>0.0</td>\n",
              "      <td>0.0</td>\n",
              "      <td>0.0</td>\n",
              "      <td>0.0</td>\n",
              "      <td>0.0</td>\n",
              "      <td>0.0</td>\n",
              "      <td>0.0</td>\n",
              "      <td>0.0</td>\n",
              "      <td>0.0</td>\n",
              "      <td>0.0</td>\n",
              "      <td>0.0</td>\n",
              "      <td>0.0</td>\n",
              "      <td>0.0</td>\n",
              "      <td>0.0</td>\n",
              "      <td>0.0</td>\n",
              "      <td>0.0</td>\n",
              "      <td>0.0</td>\n",
              "      <td>0.0</td>\n",
              "      <td>0.0</td>\n",
              "      <td>0.0</td>\n",
              "      <td>0.0</td>\n",
              "      <td>0.0</td>\n",
              "      <td>0.0</td>\n",
              "      <td>0.0</td>\n",
              "      <td>0.0</td>\n",
              "      <td>0.0</td>\n",
              "      <td>0.0</td>\n",
              "      <td>0.000000</td>\n",
              "      <td>0.0</td>\n",
              "      <td>0.0</td>\n",
              "      <td>0.0</td>\n",
              "      <td>0.0</td>\n",
              "      <td>0.0</td>\n",
              "      <td>0.0</td>\n",
              "    </tr>\n",
              "    <tr>\n",
              "      <th>2</th>\n",
              "      <td>0.0</td>\n",
              "      <td>0.0</td>\n",
              "      <td>0.0</td>\n",
              "      <td>0.0</td>\n",
              "      <td>0.0</td>\n",
              "      <td>0.0</td>\n",
              "      <td>0.0</td>\n",
              "      <td>0.0</td>\n",
              "      <td>0.000000</td>\n",
              "      <td>0.0</td>\n",
              "      <td>0.0</td>\n",
              "      <td>0.0</td>\n",
              "      <td>0.0</td>\n",
              "      <td>0.0</td>\n",
              "      <td>0.0</td>\n",
              "      <td>0.0</td>\n",
              "      <td>0.0</td>\n",
              "      <td>0.0</td>\n",
              "      <td>0.0</td>\n",
              "      <td>0.0</td>\n",
              "      <td>0.0</td>\n",
              "      <td>0.0</td>\n",
              "      <td>0.0</td>\n",
              "      <td>0.0</td>\n",
              "      <td>0.0</td>\n",
              "      <td>0.0</td>\n",
              "      <td>0.0</td>\n",
              "      <td>0.000000</td>\n",
              "      <td>0.0</td>\n",
              "      <td>0.0</td>\n",
              "      <td>0.0</td>\n",
              "      <td>0.0</td>\n",
              "      <td>0.0</td>\n",
              "      <td>0.000000</td>\n",
              "      <td>0.0</td>\n",
              "      <td>0.0</td>\n",
              "      <td>0.0</td>\n",
              "      <td>0.0</td>\n",
              "      <td>0.0</td>\n",
              "      <td>0.0</td>\n",
              "      <td>...</td>\n",
              "      <td>0.000000</td>\n",
              "      <td>0.0</td>\n",
              "      <td>0.0</td>\n",
              "      <td>0.0</td>\n",
              "      <td>0.0</td>\n",
              "      <td>0.0</td>\n",
              "      <td>0.0</td>\n",
              "      <td>0.0</td>\n",
              "      <td>0.0</td>\n",
              "      <td>0.0</td>\n",
              "      <td>0.0</td>\n",
              "      <td>0.0</td>\n",
              "      <td>0.0</td>\n",
              "      <td>0.0</td>\n",
              "      <td>0.0</td>\n",
              "      <td>0.0</td>\n",
              "      <td>0.0</td>\n",
              "      <td>0.0</td>\n",
              "      <td>0.0</td>\n",
              "      <td>0.0</td>\n",
              "      <td>0.0</td>\n",
              "      <td>0.0</td>\n",
              "      <td>0.0</td>\n",
              "      <td>0.0</td>\n",
              "      <td>0.0</td>\n",
              "      <td>0.0</td>\n",
              "      <td>0.0</td>\n",
              "      <td>0.0</td>\n",
              "      <td>0.0</td>\n",
              "      <td>0.0</td>\n",
              "      <td>0.0</td>\n",
              "      <td>0.0</td>\n",
              "      <td>0.0</td>\n",
              "      <td>0.000000</td>\n",
              "      <td>0.0</td>\n",
              "      <td>0.0</td>\n",
              "      <td>0.0</td>\n",
              "      <td>0.0</td>\n",
              "      <td>0.0</td>\n",
              "      <td>0.0</td>\n",
              "    </tr>\n",
              "    <tr>\n",
              "      <th>3</th>\n",
              "      <td>0.0</td>\n",
              "      <td>0.0</td>\n",
              "      <td>0.0</td>\n",
              "      <td>0.0</td>\n",
              "      <td>0.0</td>\n",
              "      <td>0.0</td>\n",
              "      <td>0.0</td>\n",
              "      <td>0.0</td>\n",
              "      <td>0.000000</td>\n",
              "      <td>0.0</td>\n",
              "      <td>0.0</td>\n",
              "      <td>0.0</td>\n",
              "      <td>0.0</td>\n",
              "      <td>0.0</td>\n",
              "      <td>0.0</td>\n",
              "      <td>0.0</td>\n",
              "      <td>0.0</td>\n",
              "      <td>0.0</td>\n",
              "      <td>0.0</td>\n",
              "      <td>0.0</td>\n",
              "      <td>0.0</td>\n",
              "      <td>0.0</td>\n",
              "      <td>0.0</td>\n",
              "      <td>0.0</td>\n",
              "      <td>0.0</td>\n",
              "      <td>0.0</td>\n",
              "      <td>0.0</td>\n",
              "      <td>0.000000</td>\n",
              "      <td>0.0</td>\n",
              "      <td>0.0</td>\n",
              "      <td>0.0</td>\n",
              "      <td>0.0</td>\n",
              "      <td>0.0</td>\n",
              "      <td>0.000000</td>\n",
              "      <td>0.0</td>\n",
              "      <td>0.0</td>\n",
              "      <td>0.0</td>\n",
              "      <td>0.0</td>\n",
              "      <td>0.0</td>\n",
              "      <td>0.0</td>\n",
              "      <td>...</td>\n",
              "      <td>0.000000</td>\n",
              "      <td>0.0</td>\n",
              "      <td>0.0</td>\n",
              "      <td>0.0</td>\n",
              "      <td>0.0</td>\n",
              "      <td>0.0</td>\n",
              "      <td>0.0</td>\n",
              "      <td>0.0</td>\n",
              "      <td>0.0</td>\n",
              "      <td>0.0</td>\n",
              "      <td>0.0</td>\n",
              "      <td>0.0</td>\n",
              "      <td>0.0</td>\n",
              "      <td>0.0</td>\n",
              "      <td>0.0</td>\n",
              "      <td>0.0</td>\n",
              "      <td>0.0</td>\n",
              "      <td>0.0</td>\n",
              "      <td>0.0</td>\n",
              "      <td>0.0</td>\n",
              "      <td>0.0</td>\n",
              "      <td>0.0</td>\n",
              "      <td>0.0</td>\n",
              "      <td>0.0</td>\n",
              "      <td>0.0</td>\n",
              "      <td>0.0</td>\n",
              "      <td>0.0</td>\n",
              "      <td>0.0</td>\n",
              "      <td>0.0</td>\n",
              "      <td>0.0</td>\n",
              "      <td>0.0</td>\n",
              "      <td>0.0</td>\n",
              "      <td>0.0</td>\n",
              "      <td>0.000000</td>\n",
              "      <td>0.0</td>\n",
              "      <td>0.0</td>\n",
              "      <td>0.0</td>\n",
              "      <td>0.0</td>\n",
              "      <td>0.0</td>\n",
              "      <td>0.0</td>\n",
              "    </tr>\n",
              "    <tr>\n",
              "      <th>4</th>\n",
              "      <td>0.0</td>\n",
              "      <td>0.0</td>\n",
              "      <td>0.0</td>\n",
              "      <td>0.0</td>\n",
              "      <td>0.0</td>\n",
              "      <td>0.0</td>\n",
              "      <td>0.0</td>\n",
              "      <td>0.0</td>\n",
              "      <td>0.000000</td>\n",
              "      <td>0.0</td>\n",
              "      <td>0.0</td>\n",
              "      <td>0.0</td>\n",
              "      <td>0.0</td>\n",
              "      <td>0.0</td>\n",
              "      <td>0.0</td>\n",
              "      <td>0.0</td>\n",
              "      <td>0.0</td>\n",
              "      <td>0.0</td>\n",
              "      <td>0.0</td>\n",
              "      <td>0.0</td>\n",
              "      <td>0.0</td>\n",
              "      <td>0.0</td>\n",
              "      <td>0.0</td>\n",
              "      <td>0.0</td>\n",
              "      <td>0.0</td>\n",
              "      <td>0.0</td>\n",
              "      <td>0.0</td>\n",
              "      <td>0.000000</td>\n",
              "      <td>0.0</td>\n",
              "      <td>0.0</td>\n",
              "      <td>0.0</td>\n",
              "      <td>0.0</td>\n",
              "      <td>0.0</td>\n",
              "      <td>0.000000</td>\n",
              "      <td>0.0</td>\n",
              "      <td>0.0</td>\n",
              "      <td>0.0</td>\n",
              "      <td>0.0</td>\n",
              "      <td>0.0</td>\n",
              "      <td>0.0</td>\n",
              "      <td>...</td>\n",
              "      <td>0.000000</td>\n",
              "      <td>0.0</td>\n",
              "      <td>0.0</td>\n",
              "      <td>0.0</td>\n",
              "      <td>0.0</td>\n",
              "      <td>0.0</td>\n",
              "      <td>0.0</td>\n",
              "      <td>0.0</td>\n",
              "      <td>0.0</td>\n",
              "      <td>0.0</td>\n",
              "      <td>0.0</td>\n",
              "      <td>0.0</td>\n",
              "      <td>0.0</td>\n",
              "      <td>0.0</td>\n",
              "      <td>0.0</td>\n",
              "      <td>0.0</td>\n",
              "      <td>0.0</td>\n",
              "      <td>0.0</td>\n",
              "      <td>0.0</td>\n",
              "      <td>0.0</td>\n",
              "      <td>0.0</td>\n",
              "      <td>0.0</td>\n",
              "      <td>0.0</td>\n",
              "      <td>0.0</td>\n",
              "      <td>0.0</td>\n",
              "      <td>0.0</td>\n",
              "      <td>0.0</td>\n",
              "      <td>0.0</td>\n",
              "      <td>0.0</td>\n",
              "      <td>0.0</td>\n",
              "      <td>0.0</td>\n",
              "      <td>0.0</td>\n",
              "      <td>0.0</td>\n",
              "      <td>0.000000</td>\n",
              "      <td>0.0</td>\n",
              "      <td>0.0</td>\n",
              "      <td>0.0</td>\n",
              "      <td>0.0</td>\n",
              "      <td>0.0</td>\n",
              "      <td>0.0</td>\n",
              "    </tr>\n",
              "  </tbody>\n",
              "</table>\n",
              "<p>5 rows × 6002 columns</p>\n",
              "</div>"
            ],
            "text/plain": [
              "   importa  bruschettas  parar  mediocre  ...  facturas   33  infernal  superlativa\n",
              "0      0.0          0.0    0.0       0.0  ...       0.0  0.0       0.0          0.0\n",
              "1      0.0          0.0    0.0       0.0  ...       0.0  0.0       0.0          0.0\n",
              "2      0.0          0.0    0.0       0.0  ...       0.0  0.0       0.0          0.0\n",
              "3      0.0          0.0    0.0       0.0  ...       0.0  0.0       0.0          0.0\n",
              "4      0.0          0.0    0.0       0.0  ...       0.0  0.0       0.0          0.0\n",
              "\n",
              "[5 rows x 6002 columns]"
            ]
          },
          "metadata": {
            "tags": []
          },
          "execution_count": 45
        }
      ]
    },
    {
      "cell_type": "markdown",
      "metadata": {
        "id": "_-BbbTxL-dmD",
        "colab_type": "text"
      },
      "source": [
        "Ye expresamos los datos de una manera tal que pueden introducirse de manera facilmente en modelos de aprendizaje automático."
      ]
    },
    {
      "cell_type": "markdown",
      "metadata": {
        "id": "EDVodx4twYIh",
        "colab_type": "text"
      },
      "source": [
        "## Modelo de aprendizaje automático"
      ]
    },
    {
      "cell_type": "markdown",
      "metadata": {
        "id": "ajmYXRh3y-0h",
        "colab_type": "text"
      },
      "source": [
        "### Aprendizaje supervisado (mínima intuición)"
      ]
    },
    {
      "cell_type": "markdown",
      "metadata": {
        "id": "MvsC0OSGmrbY",
        "colab_type": "text"
      },
      "source": [
        "Cómo ya dijimos, en vez de buscar manera manual qué palabras o combinación de palabras aparecen en reviews malos y no malos, encontraremos estos patrones utilizando un modelo de aprendizaje automático. Esta idea cae dentro de lo que se conoce como **aprendizaje supervisado** (temas que ven en Intro a Data Science).\n",
        "\n",
        "A grandes razgos el esquema que siguen esta familia de modelos es el siguiente (Fuente: Steinbach, Tan & Kumar, 2005):\n"
      ]
    },
    {
      "cell_type": "markdown",
      "metadata": {
        "id": "YMOtTT2QsC2K",
        "colab_type": "text"
      },
      "source": [
        "![texto alternativo](https://drive.google.com/uc?id=1U7192Mf2PF3Lkcu-MgziTejdRMofMATa)"
      ]
    },
    {
      "cell_type": "markdown",
      "metadata": {
        "id": "NHn2dOogt5yj",
        "colab_type": "text"
      },
      "source": [
        "Nuestro equivalente al *Training Set* del esquema presentado es la matriz X y el vector y, a partir de un modelo aprenderá los patrones relevantes para clasificar de manera automática nuevos reviews que aun no vimos."
      ]
    },
    {
      "cell_type": "markdown",
      "metadata": {
        "id": "n4cpiy2UzATC",
        "colab_type": "text"
      },
      "source": [
        "### Aprendizaje supervisado (en la práctica)"
      ]
    },
    {
      "cell_type": "markdown",
      "metadata": {
        "id": "DzNeMebSsB2H",
        "colab_type": "text"
      },
      "source": [
        "Lo siguiente función toma como input nuestra matriz X y nuesto vector y, y con ellos entrena un modelo conocido como Random Forest."
      ]
    },
    {
      "cell_type": "code",
      "metadata": {
        "id": "622LkJIbq0xg",
        "colab_type": "code",
        "colab": {}
      },
      "source": [
        "def train_learning_model(X, y):\n",
        "    clf = RandomForestClassifier(n_jobs=-1)\n",
        "    clf.fit(X, y)\n",
        "    clf.feature_names = list(X.columns.values)\n",
        "    return clf"
      ],
      "execution_count": 46,
      "outputs": []
    },
    {
      "cell_type": "markdown",
      "metadata": {
        "id": "jsdSUWjenDMM",
        "colab_type": "text"
      },
      "source": [
        "Ya tenemos los datos y propusimos un modelos, ahora entrenemos nuestro modelo!"
      ]
    },
    {
      "cell_type": "code",
      "metadata": {
        "id": "Wui6_sbWnIl9",
        "colab_type": "code",
        "colab": {}
      },
      "source": [
        "sentiment_analyzer = train_learning_model(X, y)"
      ],
      "execution_count": 47,
      "outputs": []
    },
    {
      "cell_type": "markdown",
      "metadata": {
        "id": "7ef_MGUrnH2h",
        "colab_type": "text"
      },
      "source": [
        "Listo! Ya tenemos nuestro modelo entrenado. Ahora lo podemos usar para predecir qué dicen reviews que nunca vió."
      ]
    },
    {
      "cell_type": "markdown",
      "metadata": {
        "id": "T2i1Go2xwgYS",
        "colab_type": "text"
      },
      "source": [
        "## Probemos cómo anda nuestro modelo en reviews nuevos"
      ]
    },
    {
      "cell_type": "markdown",
      "metadata": {
        "id": "7R0nc_h6uaM5",
        "colab_type": "text"
      },
      "source": [
        "La siguiente función toma un review, la procesa para que tenga una estructura acorde a la matriz X y se la pasa al modelo entrenado para que prediga si es una review que está hablando bien o mal de un resturante."
      ]
    },
    {
      "cell_type": "code",
      "metadata": {
        "id": "VQEon64d080W",
        "colab_type": "code",
        "colab": {}
      },
      "source": [
        "def analyze_new_review(new_review, clf):\n",
        "\n",
        "    # Pasamos el review al formato de X\n",
        "    bow = dict(Counter(re.compile(\"\\w+\").findall(new_review.lower())))\n",
        "    bow = {e:bow[e] for e in bow if e in clf.feature_names}\n",
        "    sum_tokens = sum(bow.values())\n",
        "    bow = {e:(bow[e]/sum_tokens) for e in bow}\n",
        "    X_eval = pd.DataFrame([bow], columns = clf.feature_names).fillna(0)\n",
        "\n",
        "    # Predecimos utilizando nuestro modelos entrenado\n",
        "    prediction = clf.predict_proba(X_eval)[0, 1]\n",
        "\n",
        "    return \"Buen review :)\" if prediction > 0.9 else \"Mal review :(\""
      ],
      "execution_count": 48,
      "outputs": []
    },
    {
      "cell_type": "markdown",
      "metadata": {
        "id": "STGJZb9hnuuF",
        "colab_type": "text"
      },
      "source": [
        "Probemos con algunos ejemplos cómo anda nuestra función."
      ]
    },
    {
      "cell_type": "code",
      "metadata": {
        "id": "ZH9qClAg5ANl",
        "colab_type": "code",
        "colab": {
          "base_uri": "https://localhost:8080/",
          "height": 34
        },
        "outputId": "15b07e03-99c2-4bd9-fffc-4bbfb01b6872"
      },
      "source": [
        "new_review = \"\"\"Vine a cenar y me pedí las pastas con frutos de mar, primer\n",
        "                crítica te vienen 2 langostinos solos con algunas pocas cosas\n",
        "                más, le pedí si le podía agregar grama a las pastas, me avisaron\n",
        "                que tenía un costo adicional,pero nunca imaginé que ese costó\n",
        "                sería equivalente a un plato de pastas me cobraron $ 225 por un\n",
        "                poco de crema, ni siquiera era abundante, la verdad es un robo.\n",
        "                Lo único bueno es la atención de los mozos el resto un desastre\n",
        "                no vuelvo nunca más!!!!\"\"\"\n",
        "\n",
        "print(analyze_new_review(new_review, sentiment_analyzer))"
      ],
      "execution_count": 49,
      "outputs": [
        {
          "output_type": "stream",
          "text": [
            "Mal review :(\n"
          ],
          "name": "stdout"
        }
      ]
    },
    {
      "cell_type": "code",
      "metadata": {
        "id": "BXFUUhJi5kTI",
        "colab_type": "code",
        "colab": {
          "base_uri": "https://localhost:8080/",
          "height": 34
        },
        "outputId": "c78ab60d-68b6-42e8-9a31-784369bb20ef"
      },
      "source": [
        "new_review = \"\"\"Buenísimo! Pedí en cuarentena y todo super bien.\n",
        "                Las quesadillas de lomo y pollo geniales, abundantes y muy\n",
        "                ricas. Las papas con cheddar muy buenas tambien! Recomiendo!\"\"\"\n",
        "\n",
        "print(analyze_new_review(new_review, sentiment_analyzer))"
      ],
      "execution_count": 50,
      "outputs": [
        {
          "output_type": "stream",
          "text": [
            "Buen review :)\n"
          ],
          "name": "stdout"
        }
      ]
    },
    {
      "cell_type": "code",
      "metadata": {
        "id": "MIQBfUmE8doW",
        "colab_type": "code",
        "colab": {
          "base_uri": "https://localhost:8080/",
          "height": 34
        },
        "outputId": "2f6adb7f-2685-4349-8b5f-a6f4069ec92c"
      },
      "source": [
        "new_review = \"\"\"La atención es pésima. Los mozos y mozas no prestan atención a\n",
        "                nada. Tardaron 30 minutos en traerme la carta y 25 minutos en\n",
        "                traerme la cuenta. No están capacitados para atender gente\n",
        "                tienen pésimos modales y todos cara de ORTO. No vuelvo más\"\"\"\n",
        "\n",
        "print(analyze_new_review(new_review, sentiment_analyzer))"
      ],
      "execution_count": 51,
      "outputs": [
        {
          "output_type": "stream",
          "text": [
            "Mal review :(\n"
          ],
          "name": "stdout"
        }
      ]
    },
    {
      "cell_type": "code",
      "metadata": {
        "id": "4dN1z56K7Fgx",
        "colab_type": "code",
        "colab": {
          "base_uri": "https://localhost:8080/",
          "height": 34
        },
        "outputId": "c979dab6-86f5-4632-a3fa-ca3daa4a767f"
      },
      "source": [
        "new_review = \"\"\"En plena cuarentena, el Locro que hicieron para el 1ro. de Mayo\n",
        "                espectacular, bien completo y generoso a muy buen precio!!!\n",
        "                Los felicito y esperamos el del 25!!! A no aflojar y ayudar a\n",
        "                los bodegones de barrio!!\"\"\"\n",
        "\n",
        "print(analyze_new_review(new_review, sentiment_analyzer))"
      ],
      "execution_count": 52,
      "outputs": [
        {
          "output_type": "stream",
          "text": [
            "Buen review :)\n"
          ],
          "name": "stdout"
        }
      ]
    },
    {
      "cell_type": "code",
      "metadata": {
        "id": "3Jpqj0Au_ATk",
        "colab_type": "code",
        "colab": {
          "base_uri": "https://localhost:8080/",
          "height": 34
        },
        "outputId": "d4fbfbef-802b-42f2-edaf-2c01132de93d"
      },
      "source": [
        "new_review = \"\"\"LLAMO POR UN PEDIDO DE HACE DOS HORAS QUE ESTOY ESPERANDO Y NADIE\n",
        "                SABE NADA, VUELVO Y LLAMO Y ME DICEN QUE TIENEN DEMORA DE\n",
        "                30minutos, OSEA DOS HORAS Y MEDIAS. Y CUANDO LLEGA ES UNA REAL\n",
        "                PORGONA TODO, LA VERDAD COMO SE NOTA QUE ESTAN INDRUSTIALIZADOS\n",
        "                Y NO LES IMPORTA PERDER CLIENTES, PERO LO QUE NO SABEN ES QUE EL\n",
        "                BOCA A BOCA ES LO PEOR Y TARDE O TEMPRANO VAN A CAER\"\"\"\n",
        "\n",
        "print(analyze_new_review(new_review, sentiment_analyzer))"
      ],
      "execution_count": 53,
      "outputs": [
        {
          "output_type": "stream",
          "text": [
            "Mal review :(\n"
          ],
          "name": "stdout"
        }
      ]
    },
    {
      "cell_type": "code",
      "metadata": {
        "id": "6DWX-ROUMQ29",
        "colab_type": "code",
        "colab": {
          "base_uri": "https://localhost:8080/",
          "height": 34
        },
        "outputId": "ae70ec86-72e3-4a66-f9b5-a96bf117ab88"
      },
      "source": [
        "new_review = \"\"\"Hace varios años que voy a este local y me gusta todo en\n",
        "                general. Buena atención de parte de los chicos y chicas que\n",
        "                trabajan. Muy limpio.\"\"\"\n",
        "\n",
        "print(analyze_new_review(new_review, sentiment_analyzer))"
      ],
      "execution_count": 54,
      "outputs": [
        {
          "output_type": "stream",
          "text": [
            "Buen review :)\n"
          ],
          "name": "stdout"
        }
      ]
    },
    {
      "cell_type": "code",
      "metadata": {
        "id": "xSwzPKwV0LGc",
        "colab_type": "code",
        "colab": {
          "base_uri": "https://localhost:8080/",
          "height": 34
        },
        "outputId": "7d9b9acd-43f7-416e-eb2c-177a7d71346c"
      },
      "source": [
        "new_review = \"\"\"Hay un solo pibe en el café que te toma el pedido, te cobra, lo\n",
        "                prepara, levanta y limpia las mesas y también lava las tazas\n",
        "                sucias.  Dejen de explotar adolescentes! En promedio 30 minutos\n",
        "                de espera por un café con leche...\"\"\"\n",
        "\n",
        "print(analyze_new_review(new_review, sentiment_analyzer))"
      ],
      "execution_count": 55,
      "outputs": [
        {
          "output_type": "stream",
          "text": [
            "Mal review :(\n"
          ],
          "name": "stdout"
        }
      ]
    },
    {
      "cell_type": "code",
      "metadata": {
        "id": "nEO_UsVkzllK",
        "colab_type": "code",
        "colab": {}
      },
      "source": [
        "# Escriban un review inventado por ustedes y prueben qué predice el modelo\n",
        "\n",
        "my_review = \"\"\"ESCRIBAN UN REVIEW\"\"\"\n",
        "\n",
        "print(analyze_new_review(my_review, sentiment_analyzer))"
      ],
      "execution_count": null,
      "outputs": []
    }
  ]
}